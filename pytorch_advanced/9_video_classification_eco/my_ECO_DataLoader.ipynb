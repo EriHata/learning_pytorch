{
 "cells": [
  {
   "cell_type": "markdown",
   "metadata": {},
   "source": [
    "# KineticsデータセットでECO用のDataLoaderを作成する"
   ]
  },
  {
   "cell_type": "markdown",
   "metadata": {},
   "source": [
    "## 目標\n",
    "1.\tKinetics動画データセットをダウンロードできるようになる\n",
    "2.\t動画データをフレームごとの画像データに変換できるようになる\n",
    "3.\tECOで使用するためのDataLoaderを実装できるようになる"
   ]
  },
  {
   "cell_type": "markdown",
   "metadata": {},
   "source": [
    "## Library"
   ]
  },
  {
   "cell_type": "code",
   "execution_count": 1,
   "metadata": {},
   "outputs": [],
   "source": [
    "import os\n",
    "from PIL import Image\n",
    "import csv\n",
    "import numpy as np\n",
    "\n",
    "import torch\n",
    "import torch.utils.data\n",
    "from torch import nn\n",
    "\n",
    "import torchvision"
   ]
  },
  {
   "cell_type": "markdown",
   "metadata": {},
   "source": [
    "## 動画を画像データにしたフォルダへのファイルパスのリスト作成\n",
    "\n",
    "9-4_2_convert_mp4_to_jpeg.ipynbで画像にした。"
   ]
  },
  {
   "cell_type": "code",
   "execution_count": 2,
   "metadata": {},
   "outputs": [],
   "source": [
    "def make_datapath_list(root_path):\n",
    "    '''\n",
    "    動画を画像データにしたフォルダへのファイルパスリストを作成\n",
    "    Params\n",
    "    ---------\n",
    "    root_path : str \n",
    "        データフォルダへのrootパス\n",
    "        \n",
    "    Returns\n",
    "    ---------\n",
    "    ret : video_list\n",
    "        動画を画像にしたフォルダへのファイルパスリスト\n",
    "    '''\n",
    "    \n",
    "    # 動画を画像データにしたフォルダへのファイルパスリスト\n",
    "    video_list = []\n",
    "    \n",
    "     # root_pathにあるディレクトリ（クラスの種類）のパスを取得\n",
    "    class_list = os.listdir(path=root_path)\n",
    "    \n",
    "    # 各クラスの動画フィアルを画像化したフォルダへのパスを取得\n",
    "    for class_list_i in class_list:  # クラスごとのループ\n",
    "        \n",
    "        # クラスフォルダへのパスを取得\n",
    "        class_path = os.path.join(root_path, class_list_i)\n",
    "        \n",
    "        # 各クラスのフォルダ内の画像ファイルを取得するループ\n",
    "        for file_name in os.listdir(class_path):\n",
    "            \n",
    "            # ファイル名と拡張子に分割\n",
    "            name, ext = os.path.splitext(file_name)\n",
    "            \n",
    "            # 拡張子が'.mp4'でないファイルは無視する\n",
    "            if ext == '.mp4':\n",
    "                continue\n",
    "                \n",
    "            # 動画ファイルを画像に分割して保存したフォルダのパスを取得\n",
    "            video_img_directory_path = os.path.join(class_path, name)\n",
    "            \n",
    "            # video_listに追加\n",
    "            video_list.append(video_img_directory_path)\n",
    "            \n",
    "    return video_list\n",
    "\n",
    "# 動作確認\n",
    "root_path = './data/kinetics_videos/'\n",
    "video_list = make_datapath_list(root_path)\n",
    "# 1番目と２番めの動画の画像が格納されているディレクトリ\n",
    "print(video_list[0])\n",
    "print(video_list[1])\n",
    "            "
   ]
  },
  {
   "cell_type": "markdown",
   "metadata": {},
   "source": [
    "## 動画の前処理クラスの作成"
   ]
  },
  {
   "cell_type": "code",
   "execution_count": 9,
   "metadata": {},
   "outputs": [],
   "source": [
    "class VideoTransform():\n",
    "    '''\n",
    "    動画を画像にした画像ファイルの前処理クラス\n",
    "    学習時と推論時で異なる動作をさせる →　DataAugmentation省略しているので同じではないか？\n",
    "    動画を画像に分割しているため、分割された画像たちをまとめて前処理する点に注意\n",
    "    '''\n",
    "    \n",
    "    def __init__(self, resize, crop_size, mean, std):\n",
    "        self.data_transform = {\n",
    "            'train': torchvision.transforms.Compose([\n",
    "                # DataAugmentationは今回は省略\n",
    "                GroupResize(int(resize)),              # 画像をまとめてresize\n",
    "                GroupCenterCrop(crop_size),      # 画像をまとめてCenterCrop\n",
    "                GroupToTensor(),                          \n",
    "                GroupImgNormalize(mean, std),  # 標準化\n",
    "                Stack()                                            # 複数画像をframes次元で結合させる\n",
    "            ]),\n",
    "            'val': torchvision.transforms.Compose([\n",
    "                GroupResize(int(resize)),              # 画像をまとめてresize\n",
    "                GroupCenterCrop(crop_size),      # 画像をまとめてCenterCrop\n",
    "                GroupToTensor(),                          \n",
    "                GroupImgNormalize(mean, std),  # 標準化\n",
    "                Stack()                                            # 複数画像をframes次元で結合させる\n",
    "            ])\n",
    "        }\n",
    "        \n",
    "    def __call_(self, img_group, phase):\n",
    "        '''\n",
    "        Params\n",
    "        ---------\n",
    "        phase : 'train' or 'val'\n",
    "            前処理のモードを指定\n",
    "        '''\n",
    "        \n",
    "        return self.data_transform[phase](img_group)"
   ]
  },
  {
   "cell_type": "code",
   "execution_count": 14,
   "metadata": {},
   "outputs": [],
   "source": [
    "# 前処理クラスで使用するクラスの定義\n",
    "\n",
    "class GroupResize():\n",
    "    '''\n",
    "    画像をまとめてResizeする\n",
    "    画像の短い方の辺の長さがresizeに変換される\n",
    "    アスペクト比は保たれる\n",
    "    '''\n",
    "    \n",
    "    def __init__(self, resize, interpolation=Image.BILINEAR):\n",
    "        '''リスケールする処理を用意（torchvisionから）'''\n",
    "        self.rescaler = torchvision.transforms.Resize(resize, interpolation)\n",
    "        \n",
    "    def __call__(self, img_group):\n",
    "        '''リスケールをimg_group(リスト)内の各imgに実施'''\n",
    "        return [self.rescaler(img) for img in img_group]\n",
    "    \n",
    "    \n",
    "class GroupCenterCrop():\n",
    "    '''\n",
    "    画像をまとめてCenterCropする\n",
    "    (crop_size, crop_size)の画像を切り出す\n",
    "    '''\n",
    "    def __init__(self, crop_size):\n",
    "        '''center cropする処理を用意（torchvisionから）'''\n",
    "        self.ccrop = torchvision.transforms.CenterCrop(crop_size)\n",
    "        \n",
    "    def __call__(self, img_group):\n",
    "        '''center cropをimg_group（リスト）内の各imgに実施'''\n",
    "        return [self.ccrop(img) for img in img_group]\n",
    "    \n",
    "class GroupToTensor():\n",
    "    '''画像をまとめてテンソル化するクラス'''\n",
    "    \n",
    "    def __init__(self):\n",
    "        '''テンソル化する処理を用意する'''\n",
    "        self.to_tensor = torchvision.transforms.ToTensor()\n",
    "        \n",
    "    def __call__(self, img_group):\n",
    "        '''テンソル化をimg_group（リスト）内の各imgに実施\n",
    "        0-1ではなく、0-255で扱うため　 *255\n",
    "        0-255で扱うのは学習済みデータの形式に合わせるため\n",
    "        '''\n",
    "        \n",
    "        # 画像データ自体がテンソルになっていればそれをまとめているのがテンソルでなくリストでもいいのか？\n",
    "        # いや、最後のStack（）で\n",
    "        return [self.to_tensor(img)*255 for img in img_group]\n",
    "    \n",
    "\n",
    "class GroupImgNormalize():\n",
    "    '''\n",
    "   画像をまとめて標準化するクラス\n",
    "   ''' \n",
    "    def __init__(self, mean, std):\n",
    "        '''標準化する処理を用意（torchvisionから）'''\n",
    "        self.normalize = torchvision.transforms.Normalize(mean, std)\n",
    "    \n",
    "    def __call__(self, img_group):\n",
    "        '''標準化をimg_group（リスト）内の各imgに実施'''\n",
    "        return [self.normalize(img) for img in img_group]\n",
    "    \n",
    "\n",
    "class Stack():\n",
    "    '''画像を１つのテンソルにまとめるクラス'''\n",
    "    \n",
    "    def __call__(self, img_group):\n",
    "        '''img_groupはtorch.Size([3, 224, 224])を要素とするリスト'''\n",
    "        \n",
    "        ret = torch.cat([(x.flip(dims=[0])).unsqueeze(dim=0) for x in img_group], dim=0)\n",
    "        # x.flip(dims=[0])で色チャネルを変更　RGB →　BGR\n",
    "        # unsqueeze(dim=0)で各画像にframes用の次元を追加\n",
    "        # frames次元で結合\n",
    "        \n",
    "        return ret"
   ]
  },
  {
   "cell_type": "markdown",
   "metadata": {},
   "source": [
    "## Datasetの作成"
   ]
  },
  {
   "cell_type": "code",
   "execution_count": null,
   "metadata": {},
   "outputs": [],
   "source": [
    "# kinetics-400のラベル名をIDに変換する辞書と逆にIDをラベル名に変換する辞書を用意\n",
    "\n",
    "def get_label_dictionary(label_dictionary_path='./video_download/kinetics_400_label_dictionary.csv'):\n",
    "    label_id_dict = {}\n",
    "    id_label_dict = {}\n",
    "    \n",
    "    with open(label_dictionary_path, encoding='utf-8_sig') as f:\n",
    "        \n",
    "        # 読み込み\n",
    "        reader = csv.DictReader(f, delimiter=',', quotechar=\"\")\n",
    "        \n",
    "        # 1行ずつ読み込み、辞書型変数に追加\n",
    "        for row in reader:\n",
    "            # ラベル名をIDに変換\n",
    "            label_id_dict.setdefault(\n",
    "                row['class_label'], int(row['label_id'])-1)\n",
    "            # IDをラベルに変換\n",
    "            id_label_dict.setdeafault(\n",
    "                int(row['label_id'])-1, row['class_label'])\n",
    "            \n",
    "    return label_id_dict, id_label_dict\n",
    "\n",
    "# 確認\n",
    "label_dictionary_path = './video_download/kinetics_400_label_dictionary.csv'\n",
    "label_id_dict, id_label_dict = get_label_dictionary(label_dictionary_path)\n",
    "label_id_dict"
   ]
  },
  {
   "cell_type": "code",
   "execution_count": null,
   "metadata": {},
   "outputs": [],
   "source": [
    "class VideoDataset(torch.utils.data.Dataset):\n",
    "    '''\n",
    "    動画のDataset\n",
    "    '''\n",
    "    \n",
    "    def __init__(self, video_list, )"
   ]
  },
  {
   "cell_type": "markdown",
   "metadata": {},
   "source": [
    "## DataLoaderの作成"
   ]
  },
  {
   "cell_type": "code",
   "execution_count": null,
   "metadata": {},
   "outputs": [],
   "source": []
  }
 ],
 "metadata": {
  "kernelspec": {
   "display_name": "Python 3",
   "language": "python",
   "name": "python3"
  },
  "language_info": {
   "codemirror_mode": {
    "name": "ipython",
    "version": 3
   },
   "file_extension": ".py",
   "mimetype": "text/x-python",
   "name": "python",
   "nbconvert_exporter": "python",
   "pygments_lexer": "ipython3",
   "version": "3.7.4"
  }
 },
 "nbformat": 4,
 "nbformat_minor": 2
}
