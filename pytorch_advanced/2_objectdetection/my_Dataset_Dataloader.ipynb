{
 "cells": [
  {
   "cell_type": "markdown",
   "metadata": {},
   "source": [
    "# DatasetとDataLoaderの実装"
   ]
  },
  {
   "cell_type": "markdown",
   "metadata": {},
   "source": [
    "## 学習目標\n",
    "1.\t物体検出で使用するDatasetクラスを作成できるようになる(分類と違ってアノテーションデータあり)\n",
    "2.\tSSDの学習時のデータオーギュメンテーションで、何をしているのかを理解する\n",
    "3. 物体検出で使用するDataLoaderクラスを作成できるようになる"
   ]
  },
  {
   "cell_type": "markdown",
   "metadata": {},
   "source": [
    "## library"
   ]
  },
  {
   "cell_type": "code",
   "execution_count": 23,
   "metadata": {},
   "outputs": [],
   "source": [
    "import os.path as osp\n",
    "import cv2\n",
    "import random\n",
    "# xmlを読み込み、加工、保存するライブラリ\n",
    "import xml.etree.ElementTree as ET\n",
    "import matplotlib.pyplot as plt\n",
    "import numpy as np\n",
    "import torch\n",
    "import torch.utils.data as data\n",
    "\n",
    "%matplotlib inline"
   ]
  },
  {
   "cell_type": "markdown",
   "metadata": {},
   "source": [
    "## 学習、検証の画像データとアノテーションデータへのファイルパスリストを作成する"
   ]
  },
  {
   "cell_type": "code",
   "execution_count": 24,
   "metadata": {},
   "outputs": [],
   "source": [
    "def make_datapath_list(rootpath):\n",
    "    \"\"\"\n",
    "    データへのパスを格納したリストを作成する\n",
    "    \n",
    "    Params:\n",
    "    -------------\n",
    "    rootpath : str\n",
    "        データフォルダへのパス\n",
    "    \n",
    "    Returns:\n",
    "    -------------\n",
    "    ret : train_img_list, train_anno_list, val_img_list, val_anno_list\n",
    "        データのへのパスを格納したリスト      \n",
    "    \"\"\"\n",
    "    \n",
    "    # 画像ファイルとアノテーションファイルへのパスのテンプレートを作成\n",
    "    imgpath_template = osp.join(rootpath, 'JPEGImages', '%s.jpg')\n",
    "    annopath_tempate = osp.join(rootpath, 'Annotations', '%s.xml')\n",
    "    \n",
    "    # 訓練と検証、それぞれのファイルのID（ファイル名）を取得する\n",
    "    train_id_names  = osp.join(rootpath+'ImageSets/Main/train.txt')\n",
    "    val_id_names = osp.join(rootpath+'ImageSets/Main/val.txt')\n",
    "    \n",
    "    # 訓練データの画像ファイルとアノテーションファイルへのパスのリストを作成\n",
    "    trian_img_list = list()\n",
    "    train_anno_list = list()\n",
    "    \n",
    "    for line in open(train_id_names):\n",
    "        file_id = line.strip()  # 空白スペースと改行を除去\n",
    "        img_path = (imgpath_template % file_id)      # 画像のパス  なぜタプルで囲む必要があるのか\n",
    "        anno_path = (annopath_tempate % file_id)   # アノテーションのパス\n",
    "        trian_img_list.append(img_path)               # リストに追加\n",
    "        train_anno_list.append(anno_path)           # リストに追加\n",
    "    \n",
    "    # 検証データの画像ファイルとアノテーションファイルへのパスのリストを作成\n",
    "    val_img_list = list()\n",
    "    val_anno_list = list()\n",
    "    \n",
    "    for line in open(val_id_names):\n",
    "        file_id = line.strip()  # 空白スペースと改行を除去\n",
    "        img_path = (imgpath_template % file_id)      # 画像のパス\n",
    "        anno_path = (annopath_tempate % file_id)   # アノテーションのパス\n",
    "        val_img_list.append(img_path)               # リストに追加\n",
    "        val_anno_list.append(anno_path)           # リストに追加\n",
    "    \n",
    "    return  trian_img_list, train_anno_list, val_img_list, val_anno_list"
   ]
  },
  {
   "cell_type": "code",
   "execution_count": 25,
   "metadata": {},
   "outputs": [
    {
     "name": "stdout",
     "output_type": "stream",
     "text": [
      "JPEGImages/000000.jpg\n"
     ]
    }
   ],
   "source": [
    "# template test\n",
    "test_path = osp.join('JPEGImages', '%s.jpg')\n",
    "file_id  = '000000'\n",
    "img_path = (test_path % file_id)  \n",
    "print(img_path)"
   ]
  },
  {
   "cell_type": "code",
   "execution_count": 26,
   "metadata": {},
   "outputs": [
    {
     "name": "stdout",
     "output_type": "stream",
     "text": [
      "./data/VOCdevkit/VOC2012/JPEGImages/2008_000008.jpg\n",
      "./data/VOCdevkit/VOC2012/Annotations/2008_000008.xml\n"
     ]
    }
   ],
   "source": [
    "# ファイルパスのリストを作成\n",
    "rootpath = './data/VOCdevkit/VOC2012/'\n",
    "train_img_list, train_anno_list, val_img_list, val_anno_list = make_datapath_list(rootpath)\n",
    "\n",
    "# 動作確認\n",
    "print(train_img_list[0])\n",
    "print(train_anno_list[0])"
   ]
  },
  {
   "cell_type": "code",
   "execution_count": 27,
   "metadata": {},
   "outputs": [
    {
     "name": "stdout",
     "output_type": "stream",
     "text": [
      "['a', 'i', 'u', 'e', 'o']\n",
      "['a', 'i', 'u', 'e', 'o', 'ka', 'ki', 'ku', 'ke', 'ko']\n"
     ]
    }
   ],
   "source": [
    "# listにlist足したらどうなるのか\n",
    "ret = []\n",
    "a = ['a', 'i', 'u', 'e' ,'o']\n",
    "b = ['ka', 'ki', 'ku', 'ke' ,'ko']\n",
    "ret += a \n",
    "print(ret)\n",
    "ret += b\n",
    "print(ret)"
   ]
  },
  {
   "cell_type": "code",
   "execution_count": 28,
   "metadata": {},
   "outputs": [
    {
     "name": "stdout",
     "output_type": "stream",
     "text": [
      "[['a', 'i', 'u', 'e', 'o']]\n",
      "[['a', 'i', 'u', 'e', 'o'], ['ka', 'ki', 'ku', 'ke', 'ko']]\n"
     ]
    },
    {
     "data": {
      "text/plain": [
       "array([['a', 'i', 'u', 'e', 'o'],\n",
       "       ['ka', 'ki', 'ku', 'ke', 'ko']], dtype='<U2')"
      ]
     },
     "execution_count": 28,
     "metadata": {},
     "output_type": "execute_result"
    }
   ],
   "source": [
    "# listをlistで囲ってlistに足したらどうなるのか\n",
    "ret = []\n",
    "a = ['a', 'i', 'u', 'e' ,'o']\n",
    "b = ['ka', 'ki', 'ku', 'ke' ,'ko']\n",
    "ret += [a] \n",
    "print(ret)\n",
    "ret += [b]\n",
    "print(ret)\n",
    "\n",
    "# これをnumpyにしたら\n",
    "import numpy as np\n",
    "np.array(ret)"
   ]
  },
  {
   "cell_type": "markdown",
   "metadata": {},
   "source": [
    "## xml形式のアノテーションデータをリストに変換"
   ]
  },
  {
   "cell_type": "code",
   "execution_count": 29,
   "metadata": {},
   "outputs": [],
   "source": [
    "# XML形式のアノテーションデータをpythonのリスト形式に変換するクラス\n",
    "\n",
    "class Anno_xml2list(object):\n",
    "    \"\"\"\n",
    "    一枚の画像に対する「ｘml形式のアノテーションデータ」を画像サイズに規格化してからリスト形式に変換する\n",
    "    \n",
    "    Attributeｓ\n",
    "    -------------\n",
    "    classes : list\n",
    "        VOCのクラス名を格納したリスト\n",
    "    \"\"\"\n",
    "    \n",
    "    def __init__(self, classes):\n",
    "        self.classes = classes\n",
    "        \n",
    "    def __call__(self, xml_path, width, hetig):\n",
    "        \"\"\"\n",
    "        一枚の画像に対する「ｘml形式のアノテーションデータ」を画像サイズに規格化してからリスト形式に変換する\n",
    "        \n",
    "        Params\n",
    "        -------------\n",
    "        xml_path : str\n",
    "            xmlファイルへのパス\n",
    "        width : int\n",
    "            対象画像の幅\n",
    "        height : int\n",
    "            対象画像の高さ\n",
    "            \n",
    "        Returns\n",
    "        -------------\n",
    "        ret : [[xmin, ymin, xmax, ymax, label_ind], ...]\n",
    "            物体のアノテーションデータを格納したリスト\n",
    "            画像内に存在する物体数分の要素を持つ\n",
    "            一つの画像につき５つの値が与えられている\n",
    "        \"\"\"\n",
    "        \n",
    "        # 画像内の全ての物体のアノテーションをこのリストに格納\n",
    "        ret = []\n",
    "        \n",
    "        # xmlファイルの読み込み\n",
    "        xml = ET.parse(xml_path).getroot()\n",
    "        \n",
    "        # 画像内にある物体(object)の数だけループする\n",
    "        for obj in xml.iter('object'):\n",
    "            # アノテーションで検知がdifficultに設定されているものを除外\n",
    "            difficult = int(obj.find('difficult').text)   # この書きかた分かってない　find()\n",
    "            if difficult == 1:\n",
    "                continue\n",
    "            \n",
    "            # 一つの物体に対するアノテーションを格納するリスト\n",
    "            bndbox = []\n",
    "            name = obj.find('name').text.lower().strip()  # 物体名\n",
    "            bbox = obj.find('bndbox')                                      # バウンディングボックスの情報\n",
    "            \n",
    "            # アノテーションの xmin, ymin, xmax, ymax, label_ind を取得し、0-1に正規化\n",
    "            pts = ['xmin', 'ymin', 'xmax', 'ymax']\n",
    "            \n",
    "            for pt in (pts):\n",
    "                # なぜタプルで囲ったのか\n",
    "                # 原点が(1,1)なので(0,0)に修正\n",
    "                cur_pixel = int(bbox.find(pt).text) - 1\n",
    "                \n",
    "                # 幅、高さで規格化\n",
    "                if pt == 'xmin' or pt == 'xmax':       # x軸の方向のときは幅で割り算\n",
    "                    cur_pixel  /= width\n",
    "                else:                                                    # y軸のときは高さで割り算\n",
    "                    cur_pixel /= height\n",
    "                \n",
    "                bndbox.append(cur_pixel)\n",
    "                \n",
    "            # アノテーションのクラス名のindexを取得して追加\n",
    "            label_idx = self.classes.index(name)\n",
    "            bndbox.append(label_idx)\n",
    "            \n",
    "            # res に[[xmin, ymin, xmax, ymax, label_ind]]を追加する\n",
    "            ret += [bndbox]\n",
    "            \n",
    "        return np.array(ret)  # [[xmin, ymin, xmax, ymax, label_ind], ...]"
   ]
  },
  {
   "cell_type": "code",
   "execution_count": 30,
   "metadata": {},
   "outputs": [
    {
     "data": {
      "text/plain": [
       "array([[ 0.09      ,  0.03003003,  0.998     ,  0.996997  , 18.        ],\n",
       "       [ 0.122     ,  0.56756757,  0.164     ,  0.72672673, 14.        ]])"
      ]
     },
     "execution_count": 30,
     "metadata": {},
     "output_type": "execute_result"
    }
   ],
   "source": [
    "# Anno_xml2listの動作確認\n",
    "voc_classes = ['aeroplane', 'bicycle', 'bird', 'boat', \n",
    "               'bottle', 'bus', 'car', 'cat', 'chair', 'cow', \n",
    "               'diningtable', 'dog', 'horse', 'motorbike', \n",
    "               'person', 'pottedplant', 'sheep', 'sofa', \n",
    "              'train', 'tvmonitor']\n",
    "\n",
    "# ここで__init__\n",
    "transform_anno = Anno_xml2list(voc_classes)\n",
    "\n",
    "# 画像の読み込み　OpenCVを使用\n",
    "ind = 1\n",
    "image_file_path = val_img_list[ind]\n",
    "img = cv2.imread(image_file_path)   # 高さ、幅、色RGB\n",
    "height, width, channels = img.shape   # 画像サイズの取得\n",
    "\n",
    "# アノテーションをリストで表示\n",
    "# ここで__call__\n",
    "transform_anno(val_anno_list[ind], width, height)"
   ]
  },
  {
   "cell_type": "markdown",
   "metadata": {},
   "source": [
    "## 画像とアノテーションの前処理を行うクラスDataTransformを作成"
   ]
  },
  {
   "cell_type": "code",
   "execution_count": 31,
   "metadata": {},
   "outputs": [],
   "source": [
    "# utils配下にあるライブラリを使う\n",
    "# 入力画像の前処理クラス\n",
    "from utils.data_augumentation import Compose, ConvertFromInts, ToAbsoluteCoords, RandomSampleCrop, Expand, RandomMirror, PhotometricDistort, Resize, ToPercentCoords, SubtractMeans\n",
    "\n",
    "class DataTransform():\n",
    "    \"\"\"\n",
    "    画像とアノテーションの前処理クラス\n",
    "    訓練と推論で異なる動作をする\n",
    "    訓練時はデータオーグメンテーション\n",
    "    \n",
    "    Attibutes\n",
    "    -------------\n",
    "    input_size : int\n",
    "        リサイズ先の画像の大きさ\n",
    "    color_mean : (B,G,R)\n",
    "        各色チャネルの平均値\n",
    "    \"\"\"\n",
    "    \n",
    "    def __init__(self, input_size, color_mean):\n",
    "#         self.input_size = input_size\n",
    "#         self.color_mean = color_mean\n",
    "        self.data_transform = {\n",
    "            'train': Compose([\n",
    "                ConvertFromInts(),          # int -> float32\n",
    "                ToAbsoluteCoords(),       # アノテーションデータの規格化を戻す\n",
    "                PhotometricDistort(),      # 画像の色調などをランダムに変化\n",
    "                Expand(color_mean),       # 画像のキャンバスを広げる\n",
    "                RandomSampleCrop(),     # 画像内の部分をランダムに抜き出す\n",
    "                RandomMirror(),                # 画像反転\n",
    "                ToPercentCoords(),          # アノテーションデータを0-1に規格化\n",
    "                Resize(input_size),           # 画像サイズをinput_size×input_sizeに変形\n",
    "                SubtractMeans(color_mean)    # BGRの色の平均を引き算\n",
    "            ]),\n",
    "            'val': Compose([\n",
    "                ConvertFromInts(),          # int -> float32\n",
    "                Resize(input_size),           # 画像サイズをinput_size×input_sizeに変形\n",
    "                SubtractMeans(color_mean)    # BGRの色の平均を引き算\n",
    "            ])\n",
    "        }\n",
    "    \n",
    "    def __call__(self, img, phase, boxes, labels):\n",
    "        \"\"\"\n",
    "        Params\n",
    "        -------------\n",
    "        phase : 'train' or 'val'\n",
    "            前処理のモードを設定\n",
    "        \"\"\"\n",
    "        return self.data_transform[phase](img, boxes, labels)\n",
    "    "
   ]
  },
  {
   "cell_type": "code",
   "execution_count": 32,
   "metadata": {
    "scrolled": true
   },
   "outputs": [
    {
     "data": {
      "image/png": "[encoded data removed]",
      "text/plain": [
       "<Figure size 432x288 with 1 Axes>"
      ]
     },
     "metadata": {
      "needs_background": "light"
     },
     "output_type": "display_data"
    },
    {
     "name": "stderr",
     "output_type": "stream",
     "text": [
      "Clipping input data to the valid range for imshow with RGB data ([0..1] for floats or [0..255] for integers).\n"
     ]
    },
    {
     "data": {
      "image/png": "[encoded data removed]",
      "text/plain": [
       "<Figure size 432x288 with 1 Axes>"
      ]
     },
     "metadata": {
      "needs_background": "light"
     },
     "output_type": "display_data"
    },
    {
     "name": "stderr",
     "output_type": "stream",
     "text": [
      "Clipping input data to the valid range for imshow with RGB data ([0..1] for floats or [0..255] for integers).\n"
     ]
    },
    {
     "data": {
      "image/png": "[encoded data removed]",
      "text/plain": [
       "<Figure size 432x288 with 1 Axes>"
      ]
     },
     "metadata": {
      "needs_background": "light"
     },
     "output_type": "display_data"
    }
   ],
   "source": [
    "# DataTransformの動作確認\n",
    "\n",
    "# 1. 画像の読み込み\n",
    "ind = 63\n",
    "image_file_path = val_img_list[ind]\n",
    "img = cv2.imread(image_file_path)   # 高さ、幅、色RGB\n",
    "height, width, channels = img.shape   # 画像サイズの取得\n",
    "\n",
    "# 2. アノテーションデータをリストに\n",
    "transform_anno = Anno_xml2list(voc_classes)\n",
    "anno_list = transform_anno(train_anno_list[0], width, height)\n",
    "\n",
    "# 3. 元画像の表示\n",
    "plt.imshow(cv2.cvtColor(img, cv2.COLOR_BGR2RGB))\n",
    "plt.show()\n",
    "\n",
    "# 4. 前処理クラスの作成\n",
    "color_mean = (104, 117, 123)  # RGBの色の平均値\n",
    "input_size = 300                          # ssd300では300ｘ300\n",
    "transform = DataTransform(input_size, color_mean)\n",
    "\n",
    "# 5. train画像の表示\n",
    "phase = 'train'\n",
    "img_transformed, boxes, labels = transform(\n",
    "img, phase, anno_list[:, :4], anno_list[:, 4])\n",
    "plt.imshow(cv2.cvtColor(img_transformed, cv2.COLOR_BGR2RGB))\n",
    "plt.show()\n",
    "\n",
    "# 6. val画像の表示\n",
    "phase = 'val'\n",
    "img_transformed, boxes, labels = transform(\n",
    "img, phase, anno_list[:, :4], anno_list[:, 4])\n",
    "plt.imshow(cv2.cvtColor(img_transformed, cv2.COLOR_BGR2RGB))\n",
    "plt.show()\n",
    "\n",
    "# trainデータは毎実行で変わる\n",
    "# valデータは変わらない"
   ]
  },
  {
   "cell_type": "markdown",
   "metadata": {},
   "source": [
    "##  Datasetを作成"
   ]
  },
  {
   "cell_type": "code",
   "execution_count": 41,
   "metadata": {},
   "outputs": [],
   "source": [
    "# これまではDatasetを作るために必要なものを作っていた\n",
    "# pytorchのDatasetを継承してVOCDatasetクラスを作る\n",
    "\n",
    "class VOCDataset(data.Dataset):\n",
    "    \"\"\"\n",
    "    VOC2012のDatasetを作成するクラス\n",
    "    pytorchのDatasetクラスを継承\n",
    "    \n",
    "    Attributes\n",
    "    -------------\n",
    "    img_list : list\n",
    "        画像のパスを格納したリスト\n",
    "    anno_list : list\n",
    "        アノテーションへのパスを格納したリスト\n",
    "    phase : 'train' or 'val'\n",
    "        学習か訓練化を設定する\n",
    "    transform : object\n",
    "        前処理クラスのインスタンス\n",
    "    transform_anno : object\n",
    "        xmlのアノテーションをlistに変換するインスタンス\n",
    "    \"\"\"\n",
    "    \n",
    "    def __init__(self, img_list, anno_list, phase, transform, transform_anno):\n",
    "        self.img_list = img_list\n",
    "        self.anno_list = anno_list\n",
    "        self.phase = phase\n",
    "        self.transform = transform\n",
    "        self.transform_anno = transform_anno\n",
    "    \n",
    "    def __len__(self):\n",
    "        \"\"\"\n",
    "        画像の枚数を返す\n",
    "        \"\"\"\n",
    "        return len(self.img_list)\n",
    "    \n",
    "    def __getitem__(self, index):\n",
    "        \"\"\"\n",
    "        前処理をした画像のテンソル形式のデータとアノテーションを取得\n",
    "        \"\"\"\n",
    "        im, gt, h, w = self.pull_item(index)  # 下で実装\n",
    "        return im, gt\n",
    "    \n",
    "    def pull_item(self, index):\n",
    "        \"\"\"\n",
    "        前処理をした画像のテンソル形式のデータとアノテーション、画像の高さ、幅を取得\n",
    "        \"\"\"\n",
    "        \n",
    "        # 1. 画像読み込み\n",
    "        image_file_path = self.img_list[index]\n",
    "        img = cv2.imread(image_file_path)        # 高さ、幅、色BGR\n",
    "        height, width, channels = img.shape       # 画像のサイズ取得\n",
    "    \n",
    "        # 2. xml形式のアノテーション情報をリスト型にする\n",
    "        anno_file_path = self.anno_list[index]\n",
    "        anno_list = self.transform_anno(anno_file_path, width, height)\n",
    "        \n",
    "        # 3. 前処理を実施　ここでDataTransformを使う\n",
    "        # 1枚の画像に対して可変長のbboxとlabelの組がある\n",
    "        img, boxes, labels = self.transform(\n",
    "            img, self.phase, anno_list[:, :4], anno_list[:, 4])  # 全てのboxの座標と全てのboxのラベルを分けて入れている\n",
    "        #　BGR -> RGB\n",
    "        # height, width, channel -> channel, height, width\n",
    "        img = torch.from_numpy(img[:, :, (2, 1, 0)]).permute(2, 0, 1)\n",
    "        \n",
    "        # BBoxトラベルをセットにしたnp.arrayを作成　gt : ground truth(答え)\n",
    "        # 下のnp.expand_dimsとnp.hstackのデモ参照\n",
    "        gt = np.hstack((boxes, np.expand_dims(labels, axis=1)))\n",
    "        \n",
    "        return img, gt, height, width"
   ]
  },
  {
   "cell_type": "code",
   "execution_count": 42,
   "metadata": {},
   "outputs": [
    {
     "name": "stdout",
     "output_type": "stream",
     "text": [
      "(5,)\n",
      "(5, 1)\n",
      "(5, 2)\n",
      "(5, 3)\n"
     ]
    },
    {
     "data": {
      "text/plain": [
       "array([[ 10, 100,   1],\n",
       "       [ 20, 200,   2],\n",
       "       [ 30, 300,   3],\n",
       "       [ 40, 400,   4],\n",
       "       [ 50, 500,   5]])"
      ]
     },
     "execution_count": 42,
     "metadata": {},
     "output_type": "execute_result"
    }
   ],
   "source": [
    "# np.expand_dimsの確認\n",
    "a = np.array([1,2,3,4,5])\n",
    "print(a.shape)\n",
    "b = np.expand_dims(a, axis=1)\n",
    "print(b.shape)\n",
    "c =  np.array([[10, 100], [20, 200], [30, 300], [40, 400], [50, 500]])\n",
    "print(c.shape)\n",
    "d = np.hstack((c, b))\n",
    "print(d.shape)\n",
    "d\n",
    "# OK"
   ]
  },
  {
   "cell_type": "code",
   "execution_count": 52,
   "metadata": {},
   "outputs": [
    {
     "data": {
      "text/plain": [
       "(tensor([[[ -3.0400,   0.2200,   1.8500,  ...,  -4.3333,  -7.8900,  -8.2050],\n",
       "          [  2.4950,   4.4950,   5.6600,  ...,  -3.9483,  -5.6700,  -5.6700],\n",
       "          [  6.4667,   7.2750,   8.2667,  ...,  -2.0917,  -3.7250,  -3.5417],\n",
       "          ...,\n",
       "          [-19.2917, -21.9000, -26.6833,  ...,  -3.2083,  -4.6500, -13.1917],\n",
       "          [-27.9033, -29.6800, -33.0650,  ...,   1.9483,  -3.8350, -13.1133],\n",
       "          [-38.7833, -38.5600, -34.3150,  ...,  -0.8167,  -4.0000, -15.2233]],\n",
       " \n",
       "         [[ 23.8500,  25.2200,  26.7400,  ...,  15.6667,  12.1100,  11.7950],\n",
       "          [ 27.1650,  29.1650,  28.3300,  ...,  16.0517,  14.3300,  14.3300],\n",
       "          [ 28.9167,  29.1750,  28.7167,  ...,  17.9083,  16.2750,  16.4583],\n",
       "          ...,\n",
       "          [ -0.2917,  -2.9000,  -8.6500,  ...,   2.4417,   6.3500,  -0.2000],\n",
       "          [ -9.1817, -11.5150, -16.2333,  ...,   5.1133,   7.1650,   3.9483],\n",
       "          [-19.8017, -20.5600, -17.0183,  ...,   1.2383,   5.1100,   2.4433]],\n",
       " \n",
       "         [[ 41.9050,  44.2200,  45.7950,  ...,  37.6667,  34.1100,  33.7950],\n",
       "          [ 46.3300,  48.3300,  48.3300,  ...,  38.0517,  36.3300,  36.3300],\n",
       "          [ 48.9167,  49.4500,  48.9917,  ...,  39.9083,  38.2750,  38.4583],\n",
       "          ...,\n",
       "          [-57.1167, -59.7250, -63.2917,  ..., -48.7750, -46.1000, -51.1333],\n",
       "          [-64.3467, -65.0100, -67.7283,  ..., -46.3883, -46.6700, -50.7800],\n",
       "          [-75.7467, -73.5600, -69.9083,  ..., -49.7983, -48.8900, -52.8900]]]),\n",
       " array([[0.566, 0.198, 0.634, 0.366, 2.   ],\n",
       "        [0.222, 0.29 , 0.394, 0.416, 2.   ]]))"
      ]
     },
     "execution_count": 52,
     "metadata": {},
     "output_type": "execute_result"
    }
   ],
   "source": [
    "# Datasetの動作確認\n",
    "color_mean = (104, 117, 123)  # BGR\n",
    "input_size = 300                          # ssd300だからinput size を300x300にする\n",
    "\n",
    "train_dataset = VOCDataset(train_img_list, train_anno_list, phase='train', transform=DataTransform(input_size, color_mean), transform_anno=Anno_xml2list(voc_classes))\n",
    "val_dataset = VOCDataset(val_img_list, val_anno_list, phase='val', transform=DataTransform(input_size, color_mean), transform_anno=Anno_xml2list(voc_classes))\n",
    "\n",
    "# データの取り出し例\n",
    "val_dataset.__getitem__(15)"
   ]
  },
  {
   "cell_type": "code",
   "execution_count": 60,
   "metadata": {},
   "outputs": [
    {
     "name": "stdout",
     "output_type": "stream",
     "text": [
      "5717\n",
      "5823\n"
     ]
    }
   ],
   "source": [
    "print(train_dataset.__len__())\n",
    "print(val_dataset.__len__())"
   ]
  },
  {
   "cell_type": "markdown",
   "metadata": {},
   "source": [
    "##  DataLoaderの作成\n",
    "データをミニバッチとして取り出すためのクラス \\\n",
    "物体検出では画像分類とは違い、一枚の画像に対してgtのサイズが（検出する物体の個数）異なっているため、一工夫が必要\n",
    "\n",
    "データ取り出し関数collate_fnを別途作成する"
   ]
  },
  {
   "cell_type": "code",
   "execution_count": 53,
   "metadata": {},
   "outputs": [],
   "source": [
    "# od : object detection\n",
    "def od_collate_fn(batch):\n",
    "    \"\"\"\n",
    "    Datasetから取り出すアノテーションデータのサイズが画像毎に異なる\n",
    "    画像内の物体数が2個であれば(2, 5),  3個であれば(3, 5)というサイズになる\n",
    "    アノテーションデータが可変長である場合に対応するDataLoaderを作成するために、新しいcollate_fnを作成\n",
    "    collate_fn : pytorchでリストからmini-batchを作成する関数\n",
    "    ミニバッチ分の画像が並んでいるリスト変数batchに、ミニバッチ番号を指定する次元を先頭に一つ追加してリストの形を変形\n",
    "    \"\"\"\n",
    "    \n",
    "    targets = []\n",
    "    imgs = []\n",
    "    for sample in batch:\n",
    "        imgs.append(sample[0])                                           # sample[0]は画像img\n",
    "        targets.append(torch.FloatTensor(sample[1]))    # sample[1]はアノテーションgt\n",
    "        \n",
    "    # imgsはミニバッチサイズのリストになっている\n",
    "    # リストの要素はtorch.Size([3, 300, 300])\n",
    "    # このリストをtorch.Size([batch_num, 3, 300 ,300])のテンソルに変換\n",
    "    imgs = torch.stack(imgs, dim=0)\n",
    "    \n",
    "    # targetsはアノテーションデータの正解であるgtのリスト\n",
    "    # リストのサイズはmini-batch size\n",
    "    # リストのtergetsの要素は[n, 5]となる   n: 物体数\n",
    "    # nは画像毎に異なり\n",
    "    # ５は[xmin, ymin, xmax, ymax, class_index]\n",
    "    \n",
    "    return imgs, targets"
   ]
  },
  {
   "cell_type": "code",
   "execution_count": 57,
   "metadata": {},
   "outputs": [
    {
     "name": "stdout",
     "output_type": "stream",
     "text": [
      "2\n",
      "torch.Size([2, 3, 300, 300])\n"
     ]
    },
    {
     "data": {
      "text/plain": [
       "tensor([[-1.6681,  0.6013, -0.2062,  ...,  0.1481,  0.0209,  1.4058],\n",
       "        [-1.4986,  0.3935,  0.9965,  ...,  0.9979,  0.3834,  0.2630],\n",
       "        [-0.2996, -2.5910,  1.7784,  ...,  1.9526, -0.7987,  0.0817],\n",
       "        ...,\n",
       "        [-0.6998, -0.9249,  0.3102,  ...,  0.5095, -0.9332, -2.3961],\n",
       "        [-2.7920, -0.3397,  0.1287,  ..., -0.2203, -0.8280, -1.2256],\n",
       "        [-0.4917,  0.8339, -1.5120,  ..., -1.6464,  0.9299,  0.7390]])"
      ]
     },
     "execution_count": 57,
     "metadata": {},
     "output_type": "execute_result"
    }
   ],
   "source": [
    "# torch.stackの確認\n",
    "a = torch.randn(3, 300, 300)\n",
    "b = torch.ones(3, 300, 300)\n",
    "l = [a, b]\n",
    "print(len(l))\n",
    "ab = torch.stack(l, dim=0)\n",
    "print(ab.shape)"
   ]
  },
  {
   "cell_type": "code",
   "execution_count": 64,
   "metadata": {},
   "outputs": [
    {
     "name": "stdout",
     "output_type": "stream",
     "text": [
      "torch.Size([4, 3, 300, 300])\n",
      "4\n",
      "torch.Size([2, 5])\n"
     ]
    }
   ],
   "source": [
    "# od_collate_fnを使ってデータローダーの作成\n",
    "batch_size = 4\n",
    "\n",
    "# torch.utils.dataより\n",
    "# これは継承して自作DataLoaderクラスを作るのではなく、DataLoaderクラスからインスタンスを作成する\n",
    "train_dataloader = data.DataLoader(train_dataset, batch_size=batch_size, shuffle=True, collate_fn=od_collate_fn)\n",
    "val_dataloader = data.DataLoader(val_dataset, batch_size=batch_size, shuffle=False, collate_fn=od_collate_fn)\n",
    "\n",
    "# DataLoader は辞書型変数にまとめる\n",
    "dataloaders_dict = {'train' : train_dataloader, 'val' : val_dataloader}\n",
    "\n",
    "# dataloaderの動作確認\n",
    "batch_iterator = iter(dataloaders_dict['val'])        # イテレーターに変換\n",
    "images, targets = next(batch_iterator)                   # １番目の要素を取り出す\n",
    "print(images.size())\n",
    "print(len(targets))\n",
    "print(targets[1].size())"
   ]
  },
  {
   "cell_type": "code",
   "execution_count": null,
   "metadata": {},
   "outputs": [],
   "source": []
  }
 ],
 "metadata": {
  "kernelspec": {
   "display_name": "Python 3",
   "language": "python",
   "name": "python3"
  },
  "language_info": {
   "codemirror_mode": {
    "name": "ipython",
    "version": 3
   },
   "file_extension": ".py",
   "mimetype": "text/x-python",
   "name": "python",
   "nbconvert_exporter": "python",
   "pygments_lexer": "ipython3",
   "version": "3.7.4"
  }
 },
 "nbformat": 4,
 "nbformat_minor": 2
}
