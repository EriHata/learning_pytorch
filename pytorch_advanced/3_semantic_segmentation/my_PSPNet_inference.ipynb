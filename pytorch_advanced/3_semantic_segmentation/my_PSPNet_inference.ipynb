{
 "cells": [
  {
   "cell_type": "markdown",
   "metadata": {},
   "source": [
    "# PSPNetの推論"
   ]
  },
  {
   "cell_type": "markdown",
   "metadata": {},
   "source": [
    "## 目標\n",
    "セマンティックセグメンテーションの推論を実装できるようになる"
   ]
  },
  {
   "cell_type": "markdown",
   "metadata": {},
   "source": [
    "## Library"
   ]
  },
  {
   "cell_type": "code",
   "execution_count": 1,
   "metadata": {},
   "outputs": [],
   "source": [
    "from PIL import Image\n",
    "import numpy as np\n",
    "import matplotlib.pyplot as plt\n",
    "%matplotlib inline\n",
    "\n",
    "import torch"
   ]
  },
  {
   "cell_type": "code",
   "execution_count": 2,
   "metadata": {},
   "outputs": [],
   "source": [
    "from utils.dataloader import make_datapath_list, DataTransform\n",
    "\n",
    "# ファイルパスリストの作成\n",
    "rootpath = './data/VOCdevkit/VOC2012/'\n",
    "train_img_list, train_anno_list, val_img_list, val_anno_list = make_datapath_list(rootpath=rootpath)\n"
   ]
  },
  {
   "cell_type": "markdown",
   "metadata": {},
   "source": [
    "## ネットワークの準備"
   ]
  },
  {
   "cell_type": "code",
   "execution_count": null,
   "metadata": {},
   "outputs": [],
   "source": [
    "from utils.pspnet import PSPNet\n",
    "\n",
    "# modelの外側を作って学習させた重みをロードする\n",
    "net = PSPNet(n_classes=21)\n",
    "state_dict = torch.load('./weights/pspnet50_30.pth', map_location={'cuda':'cpu'})\n",
    "net.load_state_dict(state_dict)\n",
    "\n",
    "print('ネットワーク設定完了：学習済みの重みをロードしました')"
   ]
  },
  {
   "cell_type": "markdown",
   "metadata": {},
   "source": [
    "## 推論"
   ]
  },
  {
   "cell_type": "code",
   "execution_count": null,
   "metadata": {},
   "outputs": [],
   "source": [
    "# 元画像表示\n",
    "image_file_path = './data/cowboy-757575_640.jpg'\n",
    "img = Image.open(image_file_path)  # height, width, channel\n",
    "img_width, img_height = img.size\n",
    "plt.imshow(img)\n",
    "plt.show()\n",
    "\n",
    "# 前処理\n",
    "color_mean = (0.485, 0.456, 0.406)\n",
    "color_std = (0.229, 0.224, 0.225)\n",
    "transform = DataTransform(input_size=475, color_mean=color_mean, color_std=color_std)\n",
    "\n",
    "# アノテーション画像からカラーパレットの情報を抜き出す\n",
    "anno_file_path = val_anno_list[0]\n",
    "anno_class_img = Image.open(anno_file_path)  # height, width\n",
    "p_palette = anno_class_img.getpalettt()\n",
    "phase = 'val'\n",
    "img, anno_class_img = transform(phase, img, anno_class_img)\n",
    "\n",
    "# 推論\n",
    "net.eval()  # 推論モードへ\n",
    "x = img.unsqueeze(0)  # ミニバッチ化\n",
    "outputs = net(x)\n",
    "y = outputs[0]  # AuxLoss側（y[1]）は無視\n",
    "\n",
    "# 出力から最大クラスを求め、カラーパレット形式にして画像サイズをもとに戻す\n",
    "y = y[0].detach().numpy()\n",
    "y = np.argmax(y, axis=0)\n",
    "anno_class_img = Image.fromarray(np.uint8(y), mode='P')\n",
    "anno_class_img = anno_class_img.resize((img_width, img_height), ImageNEAREST)\n",
    "anno_class_img.putpalette(p_palette)\n",
    "plt.imshow(anno_class_img)\n",
    "plt.show()\n",
    "\n",
    "# 画像を透過させて重ねる\n",
    "trans_img = Image.new('RGBA', anno_class_img.size, (0,0,0,0))\n",
    "anno_class_img = anno_class_img.convert('RGBA')  # カラーパレット形式をRGBA形式に変換\n",
    "\n",
    "for x in range(img_width):\n",
    "    for y in range(img_height):\n",
    "        pixel = anno_class_img.getpixel((x, y))\n",
    "        r, g, b, a = pixel\n",
    "        \n",
    "        # (0,0,0)の背景ならそのままにして透過させる\n",
    "        if pixel[0] == 0 and pixel[1] == 0 and pixel[2] == 0:\n",
    "            continue\n",
    "        else:\n",
    "            # それ以外の場合は色を用意した画像にピクセルを書き込む\n",
    "            trans_img.putpixel((x, y), (r, g, b, 150))　　# 150 透過度\n",
    "            \n",
    "img = Image.open(image_file_path)\n",
    "result = Image.alpha_composite(img.convert('RGBA'), trans_img)\n",
    "plt.imshow(result)\n",
    "plt.show()\n",
    "            "
   ]
  }
 ],
 "metadata": {
  "kernelspec": {
   "display_name": "Environment (conda_pytorch_p36)",
   "language": "python",
   "name": "conda_pytorch_p36"
  },
  "language_info": {
   "codemirror_mode": {
    "name": "ipython",
    "version": 3
   },
   "file_extension": ".py",
   "mimetype": "text/x-python",
   "name": "python",
   "nbconvert_exporter": "python",
   "pygments_lexer": "ipython3",
   "version": "3.6.10"
  }
 },
 "nbformat": 4,
 "nbformat_minor": 4
}
