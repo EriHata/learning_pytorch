{
 "cells": [
  {
   "cell_type": "markdown",
   "metadata": {},
   "source": [
    "# DCGANの作成"
   ]
  },
  {
   "cell_type": "markdown",
   "metadata": {},
   "source": [
    "# 5.1 学習目標\n",
    "\n",
    "1.\tGeneratorが画像を生成するためにどのようなニューラルネットワークの構造になっているのかを理解する\n",
    "2.\tDiscriminatorが画像の識別をするためにどのようなニューラルネットワークの構造になっているのかを理解する\n",
    "3.\tGANの一般的な損失関数の形とニューラルネットワークの学習の流れを理解する\n",
    "4.\tDCGANのネットワークを実装できるようになる\n",
    "\n",
    "# 5.2 学習目標\n",
    "\n",
    "1.\tGANの損失関数の形を理解する\n",
    "2.\tDCGANを実装し、手書き数字画像が生成できる"
   ]
  },
  {
   "cell_type": "markdown",
   "metadata": {},
   "source": [
    "## Library"
   ]
  },
  {
   "cell_type": "code",
   "execution_count": 1,
   "metadata": {},
   "outputs": [],
   "source": [
    "# パッケージのimport\n",
    "import random\n",
    "import math\n",
    "import time\n",
    "import pandas as pd\n",
    "import numpy as np\n",
    "from PIL import Image\n",
    "\n",
    "import torch\n",
    "import torch.utils.data as data\n",
    "import torch.nn as nn\n",
    "import torch.nn.functional as F\n",
    "import torch.optim as optim\n",
    "\n",
    "from torchvision import transforms"
   ]
  },
  {
   "cell_type": "code",
   "execution_count": 2,
   "metadata": {},
   "outputs": [],
   "source": [
    "# Setup seeds\n",
    "torch.manual_seed(1234)\n",
    "np.random.seed(1234)\n",
    "random.seed(1234)"
   ]
  },
  {
   "cell_type": "markdown",
   "metadata": {},
   "source": [
    "## Deconvolution(ConvTranspose2d, 転置畳み込み)"
   ]
  },
  {
   "cell_type": "code",
   "execution_count": 4,
   "metadata": {},
   "outputs": [
    {
     "name": "stdout",
     "output_type": "stream",
     "text": [
      "入力データ\n",
      "tensor([[[[1., 1.],\n",
      "          [2., 2.]]]])\n",
      "-----\n",
      "通常の畳み込み\n",
      "カーネル\n",
      "Parameter containing:\n",
      "tensor([[[[1., 2.],\n",
      "          [3., 4.]]]], grad_fn=<CopySlices>)\n",
      "出力\n",
      "tensor([[[[17.]]]], grad_fn=<MkldnnConvolutionBackward>)\n",
      "-----\n",
      "転置畳み込み\n",
      "カーネル\n",
      "Parameter containing:\n",
      "tensor([[[[1., 2.],\n",
      "          [3., 4.]]]], grad_fn=<CopySlices>)\n",
      "出力\n",
      "tensor([[[[ 1.,  3.,  2.],\n",
      "          [ 5., 13.,  8.],\n",
      "          [ 6., 14.,  8.]]]], grad_fn=<SlowConvTranspose2DBackward>)\n"
     ]
    }
   ],
   "source": [
    "input = torch.tensor([[[[1., 1.], [2., 2.]]]])\n",
    "print(\"入力データ\")\n",
    "print(input)\n",
    "print(\"-----\")\n",
    "\n",
    "print(\"通常の畳み込み\")\n",
    "m = nn.Conv2d(1, 1, 2, stride=1, bias=False)\n",
    "m.weight[0, 0, 0, 0] = 1\n",
    "m.weight[0, 0, 0, 1] = 2\n",
    "m.weight[0, 0, 1, 0] = 3\n",
    "m.weight[0, 0, 1, 1] = 4\n",
    "print(\"カーネル\")\n",
    "print(m.weight)\n",
    "print(\"出力\")\n",
    "print(m(input))\n",
    "\n",
    "print(\"-----\")\n",
    "print(\"転置畳み込み\")\n",
    "m = nn.ConvTranspose2d(1, 1, 2, stride=1, bias=False)\n",
    "m.weight[0, 0, 0, 0] = 1\n",
    "m.weight[0, 0, 0, 1] = 2\n",
    "m.weight[0, 0, 1, 0] = 3\n",
    "m.weight[0, 0, 1, 1] = 4\n",
    "print(\"カーネル\")\n",
    "print(m.weight)\n",
    "print(\"出力\")\n",
    "print(m(input))"
   ]
  },
  {
   "cell_type": "markdown",
   "metadata": {},
   "source": [
    "## Generatorの実装"
   ]
  },
  {
   "cell_type": "code",
   "execution_count": 8,
   "metadata": {},
   "outputs": [],
   "source": [
    "class Generator(nn.Module):\n",
    "    def __init__(self, z_dim=20, image_size=64):\n",
    "        super(Generator, self).__init__()\n",
    "        \n",
    "        # ConvTranspose2dでchannelのサイズを1まで落としていく\n",
    "        # 白黒画像なので出力チャネルは一つだけ\n",
    "        self.layer1 = nn.Sequential(\n",
    "            nn.ConvTranspose2d(z_dim, image_size*8, kernel_size=4, stride=1), \n",
    "            nn.BatchNorm2d(image_size*8), \n",
    "            nn.ReLU(inplace=True))\n",
    "        \n",
    "        self.layers2 = nn.Sequential(\n",
    "                nn.ConvTranspose2d(image_size*8, image_size*4, kernel_size=4, stride=2, padding=1),\n",
    "                nn.BatchNorm2d(image_size*4),\n",
    "                nn.ReLU(inplace=True))\n",
    "\n",
    "        self.layers3 = nn.Sequential(\n",
    "                nn.ConvTranspose2d(image_size*4, image_size*2, kernel_size=4, stride=2, padding=1),\n",
    "                nn.BatchNorm2d(image_size*2),\n",
    "                nn.ReLU(inplace=True))\n",
    "        \n",
    "        self.layers4 = nn.Sequential(\n",
    "                nn.ConvTranspose2d(image_size*2, image_size, kernel_size=4, stride=2, padding=1),\n",
    "                nn.BatchNorm2d(image_size),\n",
    "                nn.ReLU(inplace=True))\n",
    "        \n",
    "        self.last = nn.Sequential(\n",
    "                nn.ConvTranspose2d(image_size, 1, kernel_size=4, stride=2, padding=1),\n",
    "                nn.Tanh())\n",
    "        \n",
    "    def forward(self, z):\n",
    "        out = self.layer1(z)\n",
    "        out = self.layers2(out)\n",
    "        out = self.layers3(out)\n",
    "        out = self.layers4(out)\n",
    "        out = self.last(out)\n",
    "        \n",
    "        return out\n",
    "        "
   ]
  },
  {
   "cell_type": "code",
   "execution_count": 13,
   "metadata": {
    "scrolled": true
   },
   "outputs": [
    {
     "data": {
      "image/png": "[encoded data removed]",
      "text/plain": [
       "<Figure size 432x288 with 1 Axes>"
      ]
     },
     "metadata": {
      "needs_background": "light"
     },
     "output_type": "display_data"
    },
    {
     "name": "stdout",
     "output_type": "stream",
     "text": [
      "(64, 64)\n"
     ]
    }
   ],
   "source": [
    "# 動作確認\n",
    "import matplotlib.pyplot as plt\n",
    "%matplotlib inline\n",
    "\n",
    "G = Generator(z_dim=20, image_size=64)\n",
    "\n",
    "# 入力する乱数\n",
    "input_z = torch.randn(1, 20)\n",
    "# torch.Size([1, 20, 1, 1])  N,C,H,Wの形に変形\n",
    "input_z = input_z.view(input_z.size(0), input_z.size(1), 1, 1)  \n",
    "\n",
    "# 偽画像を出力\n",
    "fake_images = G(input_z)\n",
    "img_transformed = fake_images[0][0].detach().numpy()  # 勾配情報を切り捨ててnumpyに変換\n",
    "plt.imshow(img_transformed, 'gray')\n",
    "plt.show()\n",
    "\n",
    "print(img_transformed.shape) # 1,1 -> 64, 64"
   ]
  },
  {
   "cell_type": "markdown",
   "metadata": {},
   "source": [
    "## Discriminatorの実装"
   ]
  },
  {
   "cell_type": "code",
   "execution_count": null,
   "metadata": {},
   "outputs": [],
   "source": [
    "class Discriminator(nn.Module):\n",
    "    def __init__(self, z_dim=20, image_size=64):\n",
    "        super(Discriminator, self).__init__()\n",
    "        \n",
    "        # 白黒と画像なので最初channelは１\n",
    "        self.layer1 = nn.Sequential(\n",
    "            nn.Conv2d(1, image_size, kernel_size=4, stride=2, padding=1),\n",
    "            nn.LeaklyReLU(0.1, inplace=True))\n",
    "        \n",
    "        self.layer2 = nn.Sequential(\n",
    "            nn.Conv2d(image_size, image_size*2, kernel_size=4, stride=2, padding=1),\n",
    "            nn.LeaklyReLU(0.1, inplace=True))\n",
    "        \n",
    "        self.layer3 = nn.Sequential(\n",
    "            nn.Conv2d(image_size*2, image_size*4, kernel_size=4, stride=2, padding=1),\n",
    "            nn.LeaklyReLU(0.1, inplace=True))\n",
    "        \n",
    "        self.layer4 = nn.Sequential(\n",
    "            nn.Conv2d(image_size*4, image_size*8, kernel_size=4, stride=2, padding=1),\n",
    "            nn.LeaklyReLU(0.1, inplace=True))\n",
    "        \n",
    "        # 最終的に偽物か本物か判断するので１次元にする\n",
    "        self.last = nn.Conv2d(image_size*8, 1, kernel_size=4, stride=1)\n",
    "        \n",
    "    def forward(self, x):\n",
    "        out = self.layer1(x)\n",
    "        out = self.layer2(out)\n",
    "        out = self.layer3(out)\n",
    "        out = self.layer4(out)\n",
    "        out = self.last(out)\n",
    "        \n",
    "        return out"
   ]
  }
 ],
 "metadata": {
  "kernelspec": {
   "display_name": "Environment (conda_pytorch_p36)",
   "language": "python",
   "name": "conda_pytorch_p36"
  },
  "language_info": {
   "codemirror_mode": {
    "name": "ipython",
    "version": 3
   },
   "file_extension": ".py",
   "mimetype": "text/x-python",
   "name": "python",
   "nbconvert_exporter": "python",
   "pygments_lexer": "ipython3",
   "version": "3.6.10"
  }
 },
 "nbformat": 4,
 "nbformat_minor": 4
}
