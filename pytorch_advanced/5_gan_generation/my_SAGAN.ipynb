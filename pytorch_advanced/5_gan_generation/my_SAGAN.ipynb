{
 "cells": [
  {
   "cell_type": "markdown",
   "metadata": {},
   "source": [
    "# Self Attention GANの実装\n"
   ]
  },
  {
   "cell_type": "markdown",
   "metadata": {},
   "source": [
    "## Library"
   ]
  },
  {
   "cell_type": "code",
   "execution_count": 1,
   "metadata": {},
   "outputs": [],
   "source": [
    "# パッケージのimport\n",
    "import random\n",
    "import math\n",
    "import time\n",
    "import pandas as pd\n",
    "import numpy as np\n",
    "from PIL import Image\n",
    "\n",
    "import torch\n",
    "import torch.utils.data as data\n",
    "import torch.nn as nn\n",
    "import torch.nn.functional as F\n",
    "import torch.optim as optim\n",
    "\n",
    "from torchvision import transforms"
   ]
  },
  {
   "cell_type": "code",
   "execution_count": 2,
   "metadata": {},
   "outputs": [],
   "source": [
    "torch.manual_seed(123)\n",
    "np.random.seed(123)\n",
    "random.seed(123)"
   ]
  },
  {
   "cell_type": "markdown",
   "metadata": {},
   "source": [
    "## self attentionとは\n",
    "DCGANのGeneratorではDeconvで拡大する際どうしても局所情報の拡大になってしまい、大域的な情報が含まれない<br>\n",
    "大域的な情報を含んだ拡大を実現するのがself attentionという技術"
   ]
  },
  {
   "cell_type": "markdown",
   "metadata": {},
   "source": [
    "## 1x1 Convolutions (pointwise convolution)とは\n",
    "出力チャネルが1だけ -> 入力xをチャネルごとに線形和をとったもの<br>\n",
    "出力チャネルが複数 -> 異なる係数で（重み）でチャネルごとに線形和をとったものを出力チャネル分だけ用意する<br>\n",
    "\n",
    "次元圧縮とも言える<br>\n",
    "情報が欠落しにくい線形和の係数を学習してくれる\n",
    "\n",
    "次元が圧縮され、計算量が少なくなることを活かして、エッジ端末で使われるmobile netでも使用される"
   ]
  },
  {
   "cell_type": "markdown",
   "metadata": {},
   "source": [
    "## Spectral Normalizationとは\n",
    "ネットワークの重みの正規化<br>\n",
    "GANがうまく学習するにはDiscriminatorがリプシッツ連続星を保つ必要がある→<br>\n",
    "リプシッツ連続をDiscriminatorのネットワークが有するにはどうすればいいか→<br>\n",
    "Spectral Normalizationで重みを正規化する"
   ]
  },
  {
   "cell_type": "markdown",
   "metadata": {},
   "source": [
    "## self attentionモジュールの実装"
   ]
  },
  {
   "cell_type": "code",
   "execution_count": 8,
   "metadata": {},
   "outputs": [],
   "source": [
    "class Self_Attention(nn.Module):\n",
    "    \"\"\"\n",
    "    self attentionのlayer\n",
    "    \"\"\"\n",
    "    \n",
    "    def __init__(self, in_dim):\n",
    "        \"\"\"\n",
    "        query:\n",
    "            元の入力xの転置に対応するもの\n",
    "        key:\n",
    "            元の入力xに対応するもの\n",
    "        value:\n",
    "            attention mapと掛け算する対象\n",
    "        \"\"\"\n",
    "        super(Self_Attention, self).__init__()\n",
    "        \n",
    "        # pointwise convolutionを用意\n",
    "        # pointwiseなのでkernel_size=1\n",
    "        self.query_conv = nn.Conv2d(\n",
    "            in_channels=in_dim, out_channels=in_dim//8, kernel_size=1)\n",
    "        self.key_conv = nn.Conv2d(\n",
    "            in_channels=in_dim, out_channels=in_dim//8, kernel_size=1)\n",
    "        self.value_conv = nn.Conv2d(\n",
    "            in_channels=in_dim, out_channels=in_dim, kernel_size=1)\n",
    "        \n",
    "        # attention map作成時の規格化のソフトマックス\n",
    "        self.softmax = nn.Softmax(dim=-2)\n",
    "        \n",
    "        # もとの入力ｘとself attention map(o)を加算するときの係数\n",
    "        # 最初はgammma=0で学習させていく\n",
    "        # nn.Parameter : pytocrhで学習可能な変数を作成する命令\n",
    "        # これはインスタンス変数で保持しておく必要があるのかな？\n",
    "        self.gamma = nn.Parameter(torch.zeros(1))  \n",
    "        \n",
    "    def forward(self, x):\n",
    "        # 入力変数  B, C, W, H\n",
    "        X = x\n",
    "        \n",
    "        # 畳み込み後にサイズを変更 B, C', W, H -> B, C', N\n",
    "        proj_query = self.query_conv(X).view(\n",
    "            X.shape[0], -1, X.shape[2]*X.shape[3])  # channelのサイズが変わるので-1\n",
    "        proj_query = proj_query.permute(0, 2, 1)  # 転置　　B, N, C'\n",
    "        proj_key = self.key_conv(X).view(\n",
    "            X.shape[0], -1, X.shape[2]*X.shape[3])  # channelのサイズが変わるので-1\n",
    "                                                                                   # B, C', N\n",
    "\n",
    "        # 掛け算\n",
    "        S = torch.bmm(proj_query, proj_key)  # bmm : バッチごとの掛け算\n",
    "        \n",
    "        # 規格化\n",
    "        attention_map_T = self.softmax(S)  # 行i方向の和を1にするsoftmax\n",
    "        attention_map = attention_map_T.permute(0, 2, 1)  # 転置\n",
    "        \n",
    "        # self attentino mapを計算\n",
    "        proj_value = self.value_conv(X).view(\n",
    "            X.shape[0], -1, X.shape[2]*X.shape[3])  # B, C, N\n",
    "        o = torch.bmm(proj_value, attention_map.permute(0, 2, 1))  # bmm : バッチごとの掛け算\n",
    "        # attention mapは転置して掛け算\n",
    "        \n",
    "        # self attentino mapであるoのテンソルサイズをXに揃えて出力にする\n",
    "        o = o.view(X.shape[0], X.shape[1], X.shape[2], X.shape[3])\n",
    "        out = x + self.gamma*o\n",
    "        \n",
    "        return out, attention_map  # attention_mapはattentionの強さを可視化するために使用"
   ]
  },
  {
   "cell_type": "markdown",
   "metadata": {},
   "source": [
    "## Generatorの実装\n",
    "DCGANからの変更点\n",
    "- Deconv層にSpectral Normalizationを追加する\n",
    "- self attentionモジュールを追加する"
   ]
  },
  {
   "cell_type": "code",
   "execution_count": 9,
   "metadata": {},
   "outputs": [],
   "source": [
    "class Generator(nn.Module):\n",
    "    def __init__(self, z_dim=20, image_size=64):\n",
    "        super(Generator, self).__init__()\n",
    "        \n",
    "        self.layer1= nn.Sequential(\n",
    "            # Spectral Normalizationを追加\n",
    "            nn.utils.spectral_norm(\n",
    "                nn.ConvTranspose2d(z_dim, image_size*8, kernel_size=4, stride=1)),\n",
    "            nn.BatchNorm2d(image_size*8),\n",
    "            nn.ReLU(inplace=True))\n",
    "        \n",
    "        self.layer2 = nn.Sequential(\n",
    "            # Spectral Normalizationを追加\n",
    "            nn.utils.spectral_norm(\n",
    "                nn.ConvTranspose2d(image_size*8, image_size*4, kernel_size=4, stride=2, padding=1)),\n",
    "            nn.BatchNorm2d(image_size*4),\n",
    "            nn.ReLU(inplace=True))\n",
    "        \n",
    "        self.layer3 = nn.Sequential(\n",
    "            # Spectral Normalizationを追加\n",
    "            nn.utils.spectral_norm(\n",
    "                nn.ConvTranspose2d(image_size*4, image_size*2, kernel_size=4, stride=2, padding=1)),\n",
    "            nn.BatchNorm2d(image_size*2),\n",
    "            nn.ReLU(inplace=True))\n",
    "        \n",
    "        # self attention層を追加\n",
    "        self.self_attention1 = Self_Attention(in_dim=image_size*2)\n",
    "        \n",
    "        self.layer4 = nn.Sequential(\n",
    "            # Spectral Normalizationを追加\n",
    "            nn.utils.spectral_norm(\n",
    "                nn.ConvTranspose2d(image_size*2, image_size, kernel_size=4, stride=2, padding=1)),\n",
    "            nn.BatchNorm2d(image_size),\n",
    "            nn.ReLU(inplace=True))\n",
    "        \n",
    "        # self attention層を追加\n",
    "        self.self_attention2 = Self_Attention(in_dim=image_size)\n",
    "        \n",
    "        self.last = nn.Sequential(\n",
    "            # Spectral Normalizationはしない\n",
    "            nn.ConvTranspose2d(image_size, 1, kernel_size=4, stride=2, padding=1),\n",
    "            nn.Tanh())  # -1~1の出力になる\n",
    "        \n",
    "        \n",
    "    def forward(self, z):\n",
    "        out = self.layer1(z)\n",
    "        out = self.layer2(out)\n",
    "        out = self.layer3(out)\n",
    "        out, attention_map1 = self.self_attention1(out)\n",
    "        out = self.layer4(out)\n",
    "        out, attention_map2 = self.self_attention2(out)\n",
    "        out = self.last(out)\n",
    "        \n",
    "        return out, attention_map1, attention_map2  #  outと2つのattention_mapを返す\n",
    "        \n",
    "        "
   ]
  },
  {
   "cell_type": "code",
   "execution_count": 15,
   "metadata": {},
   "outputs": [
    {
     "data": {
      "image/png": "[encoded data removed]",
      "text/plain": [
       "<Figure size 432x288 with 1 Axes>"
      ]
     },
     "metadata": {
      "needs_background": "light"
     },
     "output_type": "display_data"
    }
   ],
   "source": [
    "# 動作確認\n",
    "# どこかにミスがある前提で動作確認するほうがいい\n",
    "# 修正するための動作確認だから\n",
    "import matplotlib.pyplot as plt\n",
    "%matplotlib inline\n",
    "\n",
    "# 偽画像の生成\n",
    "G = Generator(z_dim=20, image_size=64)\n",
    "input_z = torch.randn(1, 20)\n",
    "input_z = input_z.view(input_z.size(0), input_z.size(1), 1, 1)\n",
    "fake_images, attention_map1, attention_map2 = G(input_z)\n",
    "\n",
    "# 偽画像の表示\n",
    "image_transformed = fake_images[0][0].detach().numpy()  # 64x64\n",
    "plt.imshow(image_transformed, 'gray')\n",
    "plt.show()\n"
   ]
  },
  {
   "cell_type": "code",
   "execution_count": null,
   "metadata": {},
   "outputs": [],
   "source": []
  },
  {
   "cell_type": "code",
   "execution_count": null,
   "metadata": {},
   "outputs": [],
   "source": []
  }
 ],
 "metadata": {
  "kernelspec": {
   "display_name": "Python 3",
   "language": "python",
   "name": "python3"
  },
  "language_info": {
   "codemirror_mode": {
    "name": "ipython",
    "version": 3
   },
   "file_extension": ".py",
   "mimetype": "text/x-python",
   "name": "python",
   "nbconvert_exporter": "python",
   "pygments_lexer": "ipython3",
   "version": "3.7.4"
  }
 },
 "nbformat": 4,
 "nbformat_minor": 2
}
