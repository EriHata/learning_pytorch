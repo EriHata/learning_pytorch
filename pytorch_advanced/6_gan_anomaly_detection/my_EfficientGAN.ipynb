{
 "cells": [
  {
   "cell_type": "markdown",
   "metadata": {},
   "source": [
    "## Efficient GANの作成\n",
    "AnoGANの学習と異常検知までに時間がかかるのを解決する"
   ]
  },
  {
   "cell_type": "code",
   "execution_count": 1,
   "metadata": {},
   "outputs": [],
   "source": [
    "# パッケージのimport\n",
    "import random\n",
    "import math\n",
    "import time\n",
    "import pandas as pd\n",
    "import numpy as np\n",
    "from PIL import Image\n",
    "\n",
    "import torch\n",
    "import torch.utils.data as data\n",
    "import torch.nn as nn\n",
    "import torch.nn.functional as F\n",
    "import torch.optim as optim\n",
    "\n",
    "from torchvision import transforms"
   ]
  },
  {
   "cell_type": "code",
   "execution_count": 2,
   "metadata": {},
   "outputs": [],
   "source": [
    "# Setup seeds\n",
    "torch.manual_seed(1234)\n",
    "torch.cuda.manual_seed(1234)\n",
    "np.random.seed(1234)\n",
    "random.seed(1234)\n"
   ]
  },
  {
   "cell_type": "markdown",
   "metadata": {},
   "source": [
    "## Generatorの実装"
   ]
  },
  {
   "cell_type": "code",
   "execution_count": 9,
   "metadata": {},
   "outputs": [],
   "source": [
    "class Generator(nn.Module):\n",
    "    def __init__(self, z_dim=20):\n",
    "        super().__init__()\n",
    "        \n",
    "        self.layer1 = nn.Sequential(\n",
    "            nn.Linear(z_dim, 1024),\n",
    "            nn.BatchNorm1d(1024),\n",
    "            nn.ReLU(inplace=True))\n",
    "        \n",
    "        self.layer2 = nn.Sequential(\n",
    "            nn.Linear(1024, 7*7*128),\n",
    "            nn.BatchNorm1d(7*7*128),\n",
    "            nn.ReLU(inplace=True))\n",
    "        \n",
    "        self.layer3 = nn.Sequential(\n",
    "            nn.ConvTranspose2d(in_channels=128, out_channels=64,\n",
    "                              kernel_size=4, stride=2, padding=1),\n",
    "            nn.BatchNorm2d(64),\n",
    "            nn.ReLU(inplace=True))\n",
    "        \n",
    "        self.last = nn.Sequential(\n",
    "            nn.ConvTranspose2d(in_channels=64, out_channels=1, \n",
    "                               kernel_size=4, stride=2, padding=1),\n",
    "            nn.Tanh())\n",
    "        \n",
    "    def forward(self, z):\n",
    "        out = self.layer1(z)\n",
    "        out = self.layer2(out)\n",
    "        # Deconv層に入れるためにテンソルの形を整形\n",
    "        out = out.view(z.shape[0], 128, 7, 7)\n",
    "        out = self.layer3(out)\n",
    "        out = self.last(out)\n",
    "        \n",
    "        return out"
   ]
  },
  {
   "cell_type": "code",
   "execution_count": 15,
   "metadata": {},
   "outputs": [
    {
     "data": {
      "image/png": "[encoded data removed]",
      "text/plain": [
       "<Figure size 432x288 with 1 Axes>"
      ]
     },
     "metadata": {
      "needs_background": "light"
     },
     "output_type": "display_data"
    }
   ],
   "source": [
    "# 動作確認\n",
    "import matplotlib.pyplot as plt\n",
    "%matplotlib inline\n",
    "\n",
    "G = Generator(z_dim=20)\n",
    "G.train()\n",
    "\n",
    "# バッチノーマライゼーションがあるのでバッチサイズは１以上でないとエラーになる\n",
    "# ValueError: Expected more than 1 value per channel when training, got input size torch.Size([1, 1024])\n",
    "input_z = torch.randn(2, 20)\n",
    "\n",
    "# 偽画像を出力\n",
    "fake_images = G(input_z)\n",
    "image_transformed = fake_images[0][0].detach().numpy()\n",
    "plt.imshow(image_transformed)  # こっちの色の方\n",
    "plt.show()"
   ]
  },
  {
   "cell_type": "markdown",
   "metadata": {},
   "source": [
    "## Discriminatorの実装\n",
    "今までのGANと違う点\n",
    "- BiGANになっているので入力画像xだけでなく生成ノイズzも入力する\n",
    "- 2つの入力は畳み込み層、全結合層で別々に処理された後torch.cat()で結合\n",
    "- 結合したものを全結合層で処理\n",
    "<br>AnoGANと同じ点\n",
    "- 異常度の計算に、最後の識別結果を出力する全結合層の１つ手前の層の特徴量を使用する（別途出力する）"
   ]
  },
  {
   "cell_type": "code",
   "execution_count": 18,
   "metadata": {},
   "outputs": [],
   "source": [
    "class Discriminator(nn.Module):\n",
    "    \n",
    "    def __init__(self, z_dim=20):\n",
    "        super(Discriminator, self).__init__()\n",
    "        \n",
    "        # 画像側の入力処理\n",
    "        self.x_layer1 = nn.Sequential(\n",
    "            nn.Conv2d(1, 64, kernel_size=4, stride=2, padding=1),\n",
    "            nn.LeakyReLU(0.1, inplace=True))\n",
    "        \n",
    "        self.x_layer2 = nn.Sequential(\n",
    "            nn.Conv2d(64, 64, kernel_size=4, stride=2, padding=1),\n",
    "            nn.BatchNorm2d(64),\n",
    "            nn.LeakyReLU(0.1, inplace=True))\n",
    "        \n",
    "        # 生成乱数側の入力処理\n",
    "        self.z_layer1 = nn.Linear(z_dim, 512)\n",
    "        \n",
    "        # 最後の判定\n",
    "        self.last1= nn.Sequential(\n",
    "            nn.Linear(3648, 1024),  # 7*7*64 + 512\n",
    "            nn.LeakyReLU(0.1, inplace=True))\n",
    "        \n",
    "        self.last2 = nn.Linear(1024, 1)  # 最終出力から２値分類したいので１次元に落とす\n",
    "        \n",
    "    def forward(self, x, z):\n",
    "        # 画像側の入力処理\n",
    "        x_out = self.x_layer1(x)\n",
    "        x_out = self.x_layer2(x_out)\n",
    "        \n",
    "        # 生成乱数側の入力処理\n",
    "        z = z.view(z.shape[0], -1)  # (batch_size, -)\n",
    "        z_out = self.z_layer1(z)\n",
    "        \n",
    "        # x_outとz_outを結合し全結合層で判定\n",
    "        x_out = x_out.view(-1, 7*7*64)  # \n",
    "        out = torch.cat([x_out, z_out], dim=1)\n",
    "        out = self.last1(out)\n",
    "        \n",
    "        feature = out\n",
    "        feature = feature.view(feature.size()[0], -1)\n",
    "        \n",
    "        out = self.last2(out)\n",
    "        \n",
    "        return out, feature"
   ]
  },
  {
   "cell_type": "code",
   "execution_count": 22,
   "metadata": {},
   "outputs": [
    {
     "name": "stdout",
     "output_type": "stream",
     "text": [
      "tensor([[0.4832],\n",
      "        [0.4550]], grad_fn=<SigmoidBackward>)\n",
      "torch.Size([2, 1024])\n"
     ]
    }
   ],
   "source": [
    "# 動作確認\n",
    "D = Discriminator(z_dim=20)\n",
    "# こちらもx_layer2でBatchNormあるので２以上にする\n",
    "input_z = torch.randn(2, 20)\n",
    "fake_images = G(input_z)\n",
    "d_out, feature = D(fake_images, input_z)  # BiGANなので画像と生成ノイズ入れる\n",
    "\n",
    "# 出力にSigmoidをかけて0-1に変換\n",
    "print(nn.Sigmoid()(d_out))\n",
    "print(feature.shape)"
   ]
  },
  {
   "cell_type": "markdown",
   "metadata": {},
   "source": [
    "# Encoderの実装\n",
    "教師画像xから生成ノイズzを作成する<br>\n",
    "(x, E(x))と(G(z), z)の違いを見破りたいのがDiscriminatorで、区別がつかなくさせたいのがGenerator"
   ]
  },
  {
   "cell_type": "code",
   "execution_count": 24,
   "metadata": {},
   "outputs": [],
   "source": [
    "class Encoder(nn.Module):\n",
    "    \n",
    "    def __init__(self, z_dim=20):\n",
    "        super(Encoder, self).__init__()\n",
    "\n",
    "        self.layer1 = nn.Sequential(\n",
    "            nn.Conv2d(1, 32, kernel_size=3, stride=1),\n",
    "            nn.LeakyReLU(0.1, inplace=True))\n",
    "        \n",
    "        self.layer2 = nn.Sequential(\n",
    "            nn.Conv2d(32, 64, kernel_size=3, stride=2, padding=1),\n",
    "            nn.BatchNorm2d(64),\n",
    "            nn.LeakyReLU(0.1, inplace=True))\n",
    "        \n",
    "        self.layer3 = nn.Sequential(\n",
    "            nn.Conv2d(64, 128, kernel_size=3, stride=2, padding=1),\n",
    "            nn.BatchNorm2d(128),\n",
    "            nn.LeakyReLU(0.1, inplace=True))\n",
    "        \n",
    "        # ここまでで画像のサイズは7*7になっている\n",
    "        self.last  = nn.Linear(128*7*7, z_dim)\n",
    "\n",
    "    def forward(self, x):\n",
    "        out = self.layer1(x)\n",
    "        out = self.layer2(out)\n",
    "        out = self.layer3(out)\n",
    "        \n",
    "        # FCに入れるためにテンソルの形を整形\n",
    "        out = out.view(-1, 128*7*7)\n",
    "        out = self.last(out)\n",
    "        \n",
    "        return out"
   ]
  },
  {
   "cell_type": "code",
   "execution_count": 26,
   "metadata": {},
   "outputs": [
    {
     "name": "stdout",
     "output_type": "stream",
     "text": [
      "torch.Size([2, 20])\n",
      "tensor([[-0.0424,  0.4538, -0.5568,  0.1626,  0.2283,  0.0871,  0.7294,  1.0893,\n",
      "         -0.7978,  0.0960, -0.0376,  0.2664, -0.5727, -0.3135, -0.7745,  0.5290,\n",
      "         -0.0055,  0.0956, -0.1596, -0.0388],\n",
      "        [ 0.6065,  0.1608,  0.4253, -0.9233, -0.8063, -0.2744,  0.4433, -0.1404,\n",
      "         -0.5223, -0.4798,  0.6908, -0.2949,  0.0859,  0.4230,  0.2810,  0.5912,\n",
      "         -0.4553,  0.0156, -0.0082, -0.3940]], grad_fn=<AddmmBackward>)\n"
     ]
    }
   ],
   "source": [
    "# 動作確認\n",
    "E = Encoder(z_dim=20)\n",
    "\n",
    "# 入力する画像データ\n",
    "x = fake_images\n",
    "\n",
    "# 画像からzをEncode\n",
    "z = E(x)\n",
    "print(z.shape)\n",
    "print(z)\n"
   ]
  },
  {
   "cell_type": "markdown",
   "metadata": {},
   "source": [
    "## DataLoaderの作成"
   ]
  },
  {
   "cell_type": "code",
   "execution_count": 33,
   "metadata": {},
   "outputs": [],
   "source": [
    "def make_datapath_list():\n",
    "    \n",
    "    # 画像ファイルパス格納用\n",
    "    train_img_list = []\n",
    "    \n",
    "    for img_idx in range(200):\n",
    "        img_path = './data/img_78_28size/img_7_' + str(img_idx) + '.jpg'\n",
    "        train_img_list.append(img_path)\n",
    "        \n",
    "        img_path = './data/img_78_28size/img_8_' + str(img_idx) + '.jpg'\n",
    "        train_img_list.append(img_path)\n",
    "        \n",
    "    return train_img_list"
   ]
  },
  {
   "cell_type": "code",
   "execution_count": 34,
   "metadata": {},
   "outputs": [],
   "source": [
    "class ImageTransform():\n",
    "    \"\"\"\n",
    "    画像処理前クラス\n",
    "    \"\"\"\n",
    "    def __init__(self, mean, std):\n",
    "        self.data_transform = transforms.Compose([\n",
    "            transforms.ToTensor(),\n",
    "            transforms.Normalize(mean, std)\n",
    "        ])\n",
    "        \n",
    "    def __call__(self, img):\n",
    "        return self.data_transform(img)"
   ]
  },
  {
   "cell_type": "code",
   "execution_count": 38,
   "metadata": {},
   "outputs": [],
   "source": [
    "class GAN_Img_Dataset(data.Dataset):\n",
    "    \"\"\"\n",
    "    画像のDatasetクラス\n",
    "    pytorchのDatasetクラスを継承\n",
    "    \"\"\"\n",
    "    \n",
    "    def __init__(self, file_list, transform):\n",
    "        self.file_list = file_list\n",
    "        self.transform = transform\n",
    "        \n",
    "    def __len__(self):\n",
    "        \"\"\"\n",
    "        画像の枚数を返す\n",
    "        \"\"\"\n",
    "        return len(self.file_list)\n",
    "    \n",
    "    def __getitem__(self, index):\n",
    "        \"\"\"\n",
    "        前処理した画像のTensor形式のデータを取得\n",
    "        \"\"\"\n",
    "        img_path = self.file_list[index]\n",
    "        img = Image.open(img_path)\n",
    "        img_transformed = self.transform(img)\n",
    "        \n",
    "        return img_transformed"
   ]
  },
  {
   "cell_type": "code",
   "execution_count": 39,
   "metadata": {},
   "outputs": [
    {
     "name": "stdout",
     "output_type": "stream",
     "text": [
      "torch.Size([64, 1, 28, 28])\n"
     ]
    }
   ],
   "source": [
    "# DataLoaderの作成と動作確認\n",
    "train_img_list = make_datapath_list()\n",
    "\n",
    "mean, std = (0.5, ), (0.5, )\n",
    "train_dataset = GAN_Img_Dataset(file_list=train_img_list, transform=ImageTransform(mean, std))\n",
    "\n",
    "batch_size = 64\n",
    "train_dataloader = torch.utils.data.DataLoader(\n",
    "    train_dataset, batch_size=batch_size, shuffle=True)\n",
    "\n",
    "batch_iter = iter(train_dataloader)\n",
    "images = next(batch_iter)\n",
    "print(images.size())"
   ]
  },
  {
   "cell_type": "markdown",
   "metadata": {},
   "source": [
    "## 学習させる"
   ]
  },
  {
   "cell_type": "code",
   "execution_count": 43,
   "metadata": {},
   "outputs": [],
   "source": [
    "def train_model(G, D, E, dataloader, num_epochs):\n",
    "    \n",
    "    # GPUが使えるかを確認\n",
    "    device = torch.device(\"cuda:0\" if torch.cuda.is_available() else \"cpu\")\n",
    "    print(\"使用デバイス：\", device)\n",
    "    \n",
    "    # 最適化手法の設定\n",
    "    lr_ge = 0.0001\n",
    "    lr_d = 0.0001/4\n",
    "    beta1, beta2 = 0.5, 0.999\n",
    "    g_optimizer = torch.optim.Adam(G.parameters(), lr_ge, [beta1,beta2])\n",
    "    e_optimizer = torch.optim.Adam(E.parameters(), lr_ge, [beta1, beta2])\n",
    "    d_optimizer = torch.optim.Adam(D.parameters(), lr_d, [beta1, beta2])\n",
    "\n",
    "    # 誤差関数を定義\n",
    "    # BCEWithLoigtsLossは勝手に入力にsigmoidかけてバイナリクロスエントロピーを計算\n",
    "    criterion = nn.BCEWithLogitsLoss(reduction='mean')\n",
    "    \n",
    "    z_dim = 20\n",
    "    mini_batch_size = 64\n",
    "    \n",
    "    # ネットワークをGPUへ\n",
    "    G.to(device)\n",
    "    E.to(device)\n",
    "    D.to(device)\n",
    "    \n",
    "    # 高速化\n",
    "    torch.backends.cudnn.benchmark = True\n",
    "    \n",
    "    # 画像の枚数\n",
    "    num_train_imgs = len(dataloader.dataset)\n",
    "    # batch_sizeはdataloader作るときに指定している\n",
    "    # インスタンス生成したときにインスタンス変数として保持されている\n",
    "    batch_size = dataloader.batch_size  \n",
    "    \n",
    "    iteration = 1\n",
    "    # logs = []  # 今回使ってない\n",
    "    \n",
    "    # epochのループ\n",
    "    for epoch in range(num_epochs):\n",
    "        # 開始時刻とlossの初期化\n",
    "        t_epoch_start = time.time()\n",
    "        epoch_g_loss = 0.0\n",
    "        epoch_e_loss = 0.0\n",
    "        epoch_d_loss = 0.0\n",
    "        \n",
    "        # 表示\n",
    "        print('------------')\n",
    "        print('Epoch {}/{}'.format(epoch, num_epochs))\n",
    "        print('------------')\n",
    "        print('(train)')\n",
    "        # mini_batch のループ\n",
    "        for images in dataloader:\n",
    "            \n",
    "            # batchnormエラー回避\n",
    "            if images.size()[0] == 1:\n",
    "                continue\n",
    "            \n",
    "            # mini_batch_sizeの１もしくは０のラベル役のテンソルを作成\n",
    "            # 正解ラベルと偽ラベルを作成\n",
    "            # epochの最後のイテレーションはミニバッチの数が少なくなる\n",
    "            mini_batch_size = images.size()[0]\n",
    "            label_real = torch.full((mini_batch_size,), 1).to(device)\n",
    "            label_fake = torch.full((mini_batch_size,), 0).to(device)\n",
    "            \n",
    "            # データをGPUへ\n",
    "            images =images.to(device)\n",
    "            \n",
    "            \n",
    "            # --------------------\n",
    "            # 1. Discriminatorの学習\n",
    "            # --------------------\n",
    "            # 真の画像判定\n",
    "            z_out_real = E(images)\n",
    "            d_out_read = D(images, z_out_real)  # BiGAN\n",
    "            \n",
    "            # 偽画像を生成して判定\n",
    "            input_z = torch.randn(mini_batch_size. z_dim).to(device)\n",
    "            fake_images = G(input_z)\n",
    "            d_out_fake, _ = D(fake_images, input_z)\n",
    "            \n",
    "            # 誤差計算\n",
    "            d_loss_real = criterion(d_out_real.view(-1), label_real)\n",
    "            d_loss_fake = criterion(d_out_fake.view(-1), label_fake)\n",
    "            d_loss = d_loss_real + d_loss_fake\n",
    "            \n",
    "            # backpropagation\n",
    "            # zero_gradしてbackwardしてstep更新する\n",
    "            d_optimizer.zero_grad()\n",
    "            d_loss.backward()\n",
    "            d_optimizer.step()\n",
    "            \n",
    "            \n",
    "            # --------------------\n",
    "            # 2. Generatorの学習\n",
    "            # --------------------\n",
    "            # 偽画像生成して判定\n",
    "            input_z = torch.randn(mini_batch_size. z_dim).to(device)\n",
    "            fake_images = G(input_z)\n",
    "            d_out_fake, _ = D(fake_images, input_z)\n",
    "            \n",
    "            # 誤差計算\n",
    "            g_loss = criterion(d_out_fake.view(-1), label_real)  # label_realとなので注意\n",
    "            \n",
    "            # backpropagation\n",
    "            g_optimizer.zero_grad()\n",
    "            g_loss.backward()\n",
    "            g_optimizer.step()\n",
    "    \n",
    "            \n",
    "            # --------------------\n",
    "            # 3. Encoderの学習\n",
    "            # --------------------\n",
    "            # 真の画像のzを推定\n",
    "            z_out_real = E(images)\n",
    "            d_out_real = D(images, z_out_real)\n",
    "            \n",
    "            # 誤差計算\n",
    "            e_loss = criterion(d_out_real.view(-1), label_fake)\n",
    "            \n",
    "            # backpropagation\n",
    "            e_optimizer.zero_grad()\n",
    "            e_loss.backward()\n",
    "            e_optimizer.step()\n",
    "            \n",
    "            \n",
    "            # --------------------\n",
    "            # 4. 記録\n",
    "            # --------------------\n",
    "            epoch_g_loss += g_loss.item()\n",
    "            epoch_e_loss += e_loss.item()\n",
    "            epoch_d_loss += d_loss.item()\n",
    "            iteration += 1 \n",
    "            \n",
    "        # epochの学習時間とlossの表示\n",
    "        t_epoch_finish = time.time()\n",
    "        print('------------')\n",
    "        print('epoch {} || Epoch_D_loss: {:.4f} || Epoch_G_loss: {:.4f} || Epoch_E_loss :{:.4f}'.format(\n",
    "            epoch_d_loss/batch_size, epoch_g_loss/batch_size, epoch_e_loss/batch_size))\n",
    "        print('timer : {:.4f} sec'.format(t_epoch_finish - t_epoch_start))\n",
    "        t_epoch_start = time.time()\n",
    "        \n",
    "    print('総イテレーション回数：', iteration)\n",
    "    \n",
    "    return G, D, E\n"
   ]
  },
  {
   "cell_type": "code",
   "execution_count": 45,
   "metadata": {},
   "outputs": [
    {
     "name": "stdout",
     "output_type": "stream",
     "text": [
      "ネットワークの初期化完了\n"
     ]
    }
   ],
   "source": [
    "# ネットワークの初期化\n",
    "def weights_init(m):\n",
    "    classname = m.__class__.__name__\n",
    "    if classname.find('Conv') != -1:\n",
    "        nn.init.normal_(m.weight.data, 0.0, 0.02)\n",
    "        nn.init.constant_(m.bias.data, 0)\n",
    "    elif classname.find('BatchNorm') != -1:\n",
    "        nn.init.normal_(m.weight.data, 0.0, 0.02)\n",
    "        nn.init.constant_(m.bias.data, 0)\n",
    "    elif classname.find('Linear') != -1:\n",
    "        m.bias.data.fill_(0)\n",
    "        \n",
    "# 初期化実施\n",
    "G.apply(weights_init)\n",
    "E.apply(weights_init)\n",
    "D.apply(weights_init)\n",
    "\n",
    "print('ネットワークの初期化完了')"
   ]
  },
  {
   "cell_type": "code",
   "execution_count": null,
   "metadata": {},
   "outputs": [],
   "source": [
    "# 学習\n",
    "num_epochs = 1500\n",
    "G, D, E  = train_model(G, D, E, dataloader=train_dataloader, num_epochs=num_epochs)\n"
   ]
  },
  {
   "cell_type": "code",
   "execution_count": 49,
   "metadata": {},
   "outputs": [
    {
     "data": {
      "image/png": "[encoded data removed]",
      "text/plain": [
       "<Figure size 1080x432 with 10 Axes>"
      ]
     },
     "metadata": {
      "needs_background": "light"
     },
     "output_type": "display_data"
    }
   ],
   "source": [
    "# 生成画像と訓練データを可視化\n",
    "# ２つの間には何も関係ない\n",
    "device = torch.device('cuda:0' if torch.cuda.is_available() else 'cpu')\n",
    "\n",
    "# 入力の乱数生成して学習したGから偽画像を作る\n",
    "batch_size = 8\n",
    "z_dim = 20\n",
    "fixed_z = torch.randn(batch_size, z_dim)\n",
    "G.eval()\n",
    "fake_images = G(fixed_z.to(device))\n",
    "\n",
    "# 訓練データ\n",
    "batch_iterator = iter(train_dataloader)\n",
    "images = next(batch_iterator)\n",
    "\n",
    "# 出力\n",
    "fig = plt.figure(figsize=(15, 6))\n",
    "for i in range(0, 5):\n",
    "    # 上段に訓練データを\n",
    "    plt.subplot(2, 5, i+1)\n",
    "    plt.imshow(images[i][0].cpu().detach().numpy())\n",
    "    \n",
    "    # 下段に生成データを\n",
    "    # 未学習だと格子状になる\n",
    "    plt.subplot(2, 5, i+6)\n",
    "    plt.imshow(fake_images[i][0].cpu().detach().numpy())"
   ]
  },
  {
   "cell_type": "markdown",
   "metadata": {},
   "source": [
    "## テスト画像（２）で異常検知"
   ]
  },
  {
   "cell_type": "code",
   "execution_count": 55,
   "metadata": {},
   "outputs": [],
   "source": [
    "# テスト用DataLoaderの作成\n",
    "def make_test_datapath_list():\n",
    "        \n",
    "    # 画像ファイルパス格納用\n",
    "    train_img_list = []\n",
    "    \n",
    "    for img_idx in range(200):\n",
    "        img_path = './data/test_28size/img_7_' + str(img_idx) + '.jpg'\n",
    "        train_img_list.append(img_path)\n",
    "        \n",
    "        img_path = './data/test_28size/img_8_' + str(img_idx) + '.jpg'\n",
    "        train_img_list.append(img_path)\n",
    "        \n",
    "        img_path = './data/test_28size/img_2_' + str(img_idx) + '.jpg'\n",
    "        train_img_list.append(img_path)\n",
    "        \n",
    "    return train_img_list\n",
    "    \n",
    "# ファイルリスト生成\n",
    "test_img_list = make_test_datapath_list()\n",
    "\n",
    "# Dataset作成\n",
    "test_dataset = GAN_Img_Dataset(file_list=test_img_list, transform=ImageTransform(mean, std))\n",
    "\n",
    "# DataLoader作成\n",
    "batch_size = 5\n",
    "test_dataloader = torch.utils.data.DataLoader(test_dataset, batch_size=batch_size, shuffle=False)"
   ]
  },
  {
   "cell_type": "code",
   "execution_count": 58,
   "metadata": {},
   "outputs": [
    {
     "data": {
      "image/png": "[encoded data removed]",
      "text/plain": [
       "<Figure size 1080x432 with 5 Axes>"
      ]
     },
     "metadata": {
      "needs_background": "light"
     },
     "output_type": "display_data"
    }
   ],
   "source": [
    "# テストデータの中身確認\n",
    "batch_iter = iter(test_dataloader)\n",
    "images = next(batch_iter)\n",
    "\n",
    "fig = plt.figure(figsize=(15, 6))\n",
    "for i in range(5):\n",
    "    plt.subplot(1, 5, i+1)\n",
    "    plt.imshow(images[i][0].cpu().detach().numpy())"
   ]
  },
  {
   "cell_type": "code",
   "execution_count": 59,
   "metadata": {},
   "outputs": [],
   "source": [
    "def Anomaly_score(x, fake_img, z_out_real, D, Lambda=0.1):\n",
    "    '''\n",
    "    \n",
    "    Parameters:\n",
    "        x : テスト画像\n",
    "        fake_img : テスト画像の生成ノイズからGで作成した偽画像\n",
    "        z_out_real : Encorderにテスト画像を入力して得た生成ノイズ\n",
    "        '''\n",
    "    # テスト画像xと生成画像fake_imgのピクセルレベルの差の絶対値を求めてミニバッチ毎庭を求める\n",
    "    residual_loss = torch.abs(x - fake_img)\n",
    "    residual_loss = residual_loss.view(residual_loss.size()[0], -1)\n",
    "    residual_loss = torch.sum(residual_loss, dim=1)\n",
    "    \n",
    "    # テスト画像xと生成画像fake_imgを識別機Dに入れ特徴マップを取り出す\n",
    "    _, x_feature = D(x, z_out_real)\n",
    "    _, G_feature = D(fake_img, z_out_real)\n",
    "    \n",
    "    # テスト画像xの特徴量と生成画像fake_imgの特徴量の差の絶対値を求めてミニバッチ毎庭を求める\n",
    "    discrimination_loss = torch.abs(x_feature-G_feature)\n",
    "    discrimination_loss = discrimination_loss.view(discrimination_loss.size()[0], -1)\n",
    "    discrimination_loss = torch.sum(discrimination_loss, dim=1)\n",
    "    \n",
    "    # ミニバッチ毎に２種類の損失の足し算\n",
    "    loss_each = (1-Lambda)*residual_loss + Lambda*discrimination_loss\n",
    "    \n",
    "    # ミニバッチ全体の損失の和\n",
    "    total_loss = torch.sum(loss_each)\n",
    "    \n",
    "    return total_loss, loss_each, residual_loss"
   ]
  },
  {
   "cell_type": "code",
   "execution_count": 61,
   "metadata": {},
   "outputs": [
    {
     "data": {
      "text/plain": [
       "False"
      ]
     },
     "execution_count": 61,
     "metadata": {},
     "output_type": "execute_result"
    }
   ],
   "source": [
    "# 異常検知したい画像\n",
    "x = images\n",
    "x = x.to(device)\n",
    "\n",
    "# 教師データの画像をエンコードしてzにしてからGで生成\n",
    "E.eval()\n",
    "G.eval()\n",
    "z_out_real = E(images.to(device))\n",
    "images_reconstract = G(z_out_real)\n",
    "\n",
    "# 損失を求める\n",
    "loss, loss_each, residual_loss_each = Anomaly_score(\n",
    "    x, images_reconstract, z_out_real, D, Lambda=0.1)\n",
    "\n",
    "# 損失の計算\n",
    "loss_each = loss_each.cpu().detach().numpy()\n",
    "print(\"total loss：\", np.round(loss_each, 0))\n",
    "\n",
    "print('total loss: ', loss)\n",
    "\n",
    "# 画像を可視化\n",
    "fig = plt.figure(figsize=(15, 6))\n",
    "for i in range(5):\n",
    "    # 訓練データ\n",
    "    plt.subplot(2, 5, i+1)\n",
    "    plt.imshow(images[i][0].cpu().detach().numpy())\n",
    "    \n",
    "    # 生成データ\n",
    "    plt.subplot(2, 5, i+6)\n",
    "    plt.imshow(images_reconstract[i][0].cpu().detach().numpy())"
   ]
  },
  {
   "cell_type": "code",
   "execution_count": null,
   "metadata": {},
   "outputs": [],
   "source": []
  }
 ],
 "metadata": {
  "kernelspec": {
   "display_name": "Python 3",
   "language": "python",
   "name": "python3"
  },
  "language_info": {
   "codemirror_mode": {
    "name": "ipython",
    "version": 3
   },
   "file_extension": ".py",
   "mimetype": "text/x-python",
   "name": "python",
   "nbconvert_exporter": "python",
   "pygments_lexer": "ipython3",
   "version": "3.7.4"
  }
 },
 "nbformat": 4,
 "nbformat_minor": 2
}
